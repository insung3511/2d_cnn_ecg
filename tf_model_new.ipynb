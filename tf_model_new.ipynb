{
 "cells": [
  {
   "cell_type": "code",
   "execution_count": 1,
   "metadata": {},
   "outputs": [],
   "source": [
    "# # 그래픽 카드 둘로 쓰기 (두개 있을때, 하나만 있다면 0)\n",
    "# # gpu idx 를 0 또는 1 로 설정하시오\n",
    "# import tensorflow as tf \n",
    "# import os\n",
    "\n",
    "# os.environ[\"CUDA_DEVICE_ORDER\"]= \"PCI_BUS_ID\"\n",
    "# os.environ[\"CUDA_VISIBLE_DEVICES\"] = \"0\" # gpu idx\n",
    "\n",
    "# tf.config.set_soft_device_placement(True)\n",
    "# tf.debugging.set_log_device_placement(True)"
   ]
  },
  {
   "cell_type": "code",
   "execution_count": 2,
   "metadata": {},
   "outputs": [
    {
     "name": "stdout",
     "output_type": "stream",
     "text": [
      "[PhysicalDevice(name='/physical_device:GPU:0', device_type='GPU')]\n",
      "['/device:CPU:0', '/device:GPU:0']\n"
     ]
    }
   ],
   "source": [
    "from tensorflow.python.client import device_lib \n",
    "import tensorflow as tf \n",
    "\n",
    "gpus = tf.config.experimental.list_physical_devices('GPU')\n",
    "if gpus:\n",
    "    try:\n",
    "        tf.config.experimental.set_memory_growth(gpus[0], True)\n",
    "    except RuntimeError as e:\n",
    "        print(e)\n",
    "        print(\"Got error idoit\")\n",
    "print(gpus)\n",
    "\n",
    "ah = device_lib.list_local_devices()\n",
    "print([x.name for x in ah])"
   ]
  },
  {
   "cell_type": "code",
   "execution_count": 3,
   "metadata": {},
   "outputs": [],
   "source": [
    "# 경로에 폴더가 없으면 폴더 만들기\n",
    "import os\n",
    "\n",
    "def createDirectory(directory):\n",
    "    try:\n",
    "        if not os.path.exists(directory):\n",
    "            os.makedirs(directory)\n",
    "    except OSError:\n",
    "        print(\"Error: Failed to create the directory.\")"
   ]
  },
  {
   "cell_type": "code",
   "execution_count": 4,
   "metadata": {},
   "outputs": [],
   "source": [
    "import matplotlib.pyplot as plt\n",
    "from PIL import Image, ImageOps\n",
    "from tqdm import tqdm\n",
    "import numpy as np\n",
    "import itertools\n",
    "import pathlib\n",
    "import cv2\n",
    "\n",
    "from sklearn.model_selection import train_test_split\n",
    "from tensorflow.keras import layers\n",
    "from tensorflow import keras\n",
    "import tensorflow as tf\n",
    "\n",
    "EPOCH = 100\n",
    "KERNEL_SIZE = 3\n",
    "BATCH_SIZE = 128\n",
    "IMAGE_HEIGHT = 256\n",
    "IMAGE_WIDTH = 256\n",
    "\n",
    "DATA_PATH = \"./graph_data/\"\n",
    "\n",
    "def list_to_list(input_list):\n",
    "    input_list_to_list = list(itertools.chain(*input_list))\n",
    "    return input_list_to_list"
   ]
  },
  {
   "cell_type": "markdown",
   "metadata": {},
   "source": [
    "# 데이터 불러오기"
   ]
  },
  {
   "cell_type": "code",
   "execution_count": 5,
   "metadata": {},
   "outputs": [
    {
     "name": "stdout",
     "output_type": "stream",
     "text": [
      "graph_data\n",
      "112599\n"
     ]
    }
   ],
   "source": [
    "data_dir = pathlib.Path(DATA_PATH)\n",
    "print(data_dir)\n",
    "\n",
    "image_count = len(list(data_dir.glob('*/*.png')))\n",
    "print(image_count)\n",
    "\n",
    "f = list(data_dir.glob('F/*'))\n",
    "n = list(data_dir.glob('N/*'))\n",
    "q = list(data_dir.glob('Q/*'))\n",
    "s = list(data_dir.glob('S/*'))\n",
    "v = list(data_dir.glob('V/*'))"
   ]
  },
  {
   "cell_type": "markdown",
   "metadata": {},
   "source": [
    "# 데이터 split\n",
    "## train, test, validation data 나누기"
   ]
  },
  {
   "cell_type": "code",
   "execution_count": 6,
   "metadata": {},
   "outputs": [],
   "source": [
    "parents_path = DATA_PATH"
   ]
  },
  {
   "cell_type": "code",
   "execution_count": 7,
   "metadata": {},
   "outputs": [
    {
     "name": "stdout",
     "output_type": "stream",
     "text": [
      "[INFO] Current path : ./graph_data/F\n"
     ]
    },
    {
     "name": "stderr",
     "output_type": "stream",
     "text": [
      "100%|██████████| 803/803 [00:00<00:00, 1327.70it/s]\n"
     ]
    },
    {
     "name": "stdout",
     "output_type": "stream",
     "text": [
      "[INFO] Current path : ./graph_data/N\n"
     ]
    },
    {
     "name": "stderr",
     "output_type": "stream",
     "text": [
      "100%|██████████| 90631/90631 [01:11<00:00, 1262.24it/s]\n"
     ]
    },
    {
     "name": "stdout",
     "output_type": "stream",
     "text": [
      "[INFO] Current path : ./graph_data/Q\n"
     ]
    },
    {
     "name": "stderr",
     "output_type": "stream",
     "text": [
      "100%|██████████| 11148/11148 [00:08<00:00, 1248.63it/s]\n"
     ]
    },
    {
     "name": "stdout",
     "output_type": "stream",
     "text": [
      "[INFO] Current path : ./graph_data/S\n"
     ]
    },
    {
     "name": "stderr",
     "output_type": "stream",
     "text": [
      "100%|██████████| 2781/2781 [00:02<00:00, 1236.96it/s]\n"
     ]
    },
    {
     "name": "stdout",
     "output_type": "stream",
     "text": [
      "[INFO] Current path : ./graph_data/V\n"
     ]
    },
    {
     "name": "stderr",
     "output_type": "stream",
     "text": [
      "100%|██████████| 7236/7236 [00:05<00:00, 1245.62it/s]\n"
     ]
    }
   ],
   "source": [
    "parents_path = DATA_PATH\n",
    "child_path = os.listdir(parents_path)\n",
    "\n",
    "npy_check_list = []\n",
    "\n",
    "temp_converted_img = list()\n",
    "temp_ann_list = list()\n",
    "X = list()\n",
    "y = list()\n",
    "\n",
    "for pic_path in (child_path):\n",
    "    current_path = os.listdir(parents_path + pic_path)\n",
    "    print(\"[INFO] Current path : \" + parents_path + pic_path)\n",
    "    for file_name in tqdm(current_path):\n",
    "        path_for_array = parents_path + pic_path + \"/\" + file_name\n",
    "\n",
    "        img = cv2.imread(path_for_array)\n",
    "        img = cv2.cvtColor(img, cv2.COLOR_BGR2GRAY)\n",
    "        img_resize = cv2.resize(img, dsize=(64, 64), interpolation=cv2.INTER_AREA)\n",
    "        temp_converted_img.append(img_resize / 255.0)\n",
    "        \n",
    "        check_ann = pic_path\n",
    "        \n",
    "        if check_ann == \"N\":            # Normal\n",
    "            temp_ann_list.append([1, 0, 0, 0, 0])\n",
    "        \n",
    "        elif check_ann == \"S\":          # Supra-ventricular\n",
    "            temp_ann_list.append([0, 1, 0, 0, 0])\n",
    "        \n",
    "        elif check_ann == \"V\":          # Ventricular\n",
    "            temp_ann_list.append([0, 0, 1, 0, 0])\n",
    "        \n",
    "        elif check_ann == \"F\":          # False alarm\n",
    "            temp_ann_list.append([0, 0, 0, 1, 0])\n",
    "        \n",
    "        else:                           # Unclassed \n",
    "            temp_ann_list.append([0, 0, 0, 0, 1])\n",
    "    \n",
    "        y.append(temp_ann_list)"
   ]
  },
  {
   "cell_type": "code",
   "execution_count": 8,
   "metadata": {},
   "outputs": [],
   "source": [
    "onehot_y = np.array(temp_ann_list)\n",
    "temp_converted_img = np.array(temp_converted_img)"
   ]
  },
  {
   "cell_type": "code",
   "execution_count": 9,
   "metadata": {},
   "outputs": [
    {
     "name": "stdout",
     "output_type": "stream",
     "text": [
      "[SIZE]\t\tNpX lenght : (75441, 64, 64)\n",
      "\t\tNpY length : (75441, 5)\n",
      "[SIZE]\t\tX_validation length : (12263, 64, 64)\n",
      "\t\ty_validation length : (12263, 5)\n",
      "[SIZE]\t\tX_test length : (24895, 64, 64)\n",
      "\t\ty_test length : (24895, 5)\n"
     ]
    }
   ],
   "source": [
    "X_train, X_test, y_train, y_test = train_test_split(temp_converted_img, onehot_y, test_size=0.33, random_state=42, shuffle=True)\n",
    "X_test, X_val, y_test, y_val = train_test_split(X_test, y_test, test_size=0.33, random_state=42, shuffle=True)\n",
    "\n",
    "print(\"[SIZE]\\t\\tNpX lenght : {}\\n\\t\\tNpY length : {}\".format(X_train.shape, y_train.shape))\n",
    "print(\"[SIZE]\\t\\tX_validation length : {}\\n\\t\\ty_validation length : {}\".format(X_val.shape, y_val.shape))\n",
    "print(\"[SIZE]\\t\\tX_test length : {}\\n\\t\\ty_test length : {}\".format(X_test.shape, y_test.shape))"
   ]
  },
  {
   "cell_type": "code",
   "execution_count": 10,
   "metadata": {},
   "outputs": [
    {
     "data": {
      "image/png": "[encoded data removed]",
      "text/plain": [
       "<Figure size 2160x864 with 16 Axes>"
      ]
     },
     "metadata": {
      "needs_background": "light"
     },
     "output_type": "display_data"
    }
   ],
   "source": [
    "# 랜덤으로 뽑아서 뿌려보기\n",
    "\n",
    "import matplotlib.pyplot as plt\n",
    "import random\n",
    "%matplotlib inline\n",
    "\n",
    "plt.figure(figsize=(30, 12))\n",
    "plt.suptitle(\"random pal, per PAL\", fontsize=18)\n",
    "n = 0\n",
    "random.seed(11)\n",
    "for i in random.sample(range(6480), 16):\n",
    "    ax = plt.subplot(5, 5, n+1)\n",
    "    plt.imshow(temp_converted_img[i] * 255.0, interpolation='nearest')\n",
    "    ax.set_title(str(onehot_y[i]))\n",
    "    n+=1"
   ]
  },
  {
   "cell_type": "markdown",
   "metadata": {},
   "source": [
    "# 모델 생성"
   ]
  },
  {
   "cell_type": "code",
   "execution_count": 11,
   "metadata": {},
   "outputs": [],
   "source": [
    "# from tensorflow.compat.v1 import ConfigProto\n",
    "# from tensorflow.compat.v1 import InteractiveSession\n",
    "# config = ConfigProto()\n",
    "# config.gpu_options.allow_growth = True\n",
    "# session = InteractiveSession(config=config)"
   ]
  },
  {
   "cell_type": "code",
   "execution_count": 20,
   "metadata": {},
   "outputs": [],
   "source": [
    "input_size = (64, 64, 1)\n",
    "\n",
    "# tf.config.set_soft_device_placement(True)\n",
    "# tf.debugging.set_log_device_placement(True)\n",
    "\n",
    "kernel_init = tf.keras.initializers.glorot_uniform()\n",
    "bias_init = keras.initializers.Constant(value=0.2)\n",
    "\n",
    "def inception(x, filters_1, filters_1to3, filters_3, filters_1to5, filters_5, filters_pool_proj, kernel_init=kernel_init, bias_init=bias_init):\n",
    "    conv_1      = layers.Conv2D(filters_1,      (1, 1), padding='same', activation='relu', kernel_initializer=kernel_init, bias_initializer=bias_init)(x)\n",
    "    conv_1to3   = layers.Conv2D(filters_1to3,   (1, 1), padding='same', activation='relu', kernel_initializer=kernel_init, bias_initializer=bias_init)(x)\n",
    "    conv_3      = layers.Conv2D(filters_3,      (3, 3), padding='same', activation='relu', kernel_initializer=kernel_init, bias_initializer=bias_init)(conv_1to3)\n",
    "    \n",
    "    conv_1to5   = layers.Conv2D(filters_1to5,   (1, 1), padding='same', activation='relu', kernel_initializer=kernel_init, bias_initializer=bias_init)(x)\n",
    "    conv_5      = layers.Conv2D(filters_5,      (5, 5), padding='same', activation='relu', kernel_initializer=kernel_init, bias_initializer=bias_init)(conv_1to5)\n",
    "    \n",
    "    max_pool    = layers.MaxPooling2D(pool_size=(3, 3), strides=1, padding='same')(x)\n",
    "    pool_proj   = layers.Conv2D(filters_pool_proj, (1, 1), padding='same', activation='relu', kernel_initializer=kernel_init, bias_initializer=bias_init)(max_pool)\n",
    "    output      = layers.concatenate([conv_1, conv_3, conv_5, pool_proj])\n",
    "    return output\n",
    "\n",
    "input_layer = layers.Input(shape=(64, 64, 1))\n",
    "\n",
    "x = layers.Conv2D(64, kernel_size=(7, 7), strides=2, padding='same', activation='relu', kernel_initializer=kernel_init, bias_initializer=bias_init)(input_layer)\n",
    "x = layers.MaxPool2D(   pool_size=(3, 3), strides=2, padding='same')(x)\n",
    "x = layers.Conv2D(64, kernel_size=(1, 1), strides=1, padding='same', activation='relu', kernel_initializer=kernel_init, bias_initializer=bias_init)(x)\n",
    "x = layers.Conv2D(192,kernel_size=(3, 3), strides=1, padding='same', activation='relu', kernel_initializer=kernel_init, bias_initializer=bias_init)(x)\n",
    "x = layers.MaxPool2D(   pool_size=(3, 3), strides=2, padding='same')(x)\n",
    "\n",
    "x = inception(x, 64, 96, 128, 16, 32, 32)\n",
    "x = inception(x, 128, 128, 192, 32, 96, 64)\n",
    "x = layers.MaxPool2D(pool_size=(3, 3), strides=2)(x)\n",
    "\n",
    "x = inception(x, 192, 96, 208, 16, 48, 64)\n",
    "\n",
    "x1 = layers.AveragePooling2D(pool_size=(3, 3), strides=3)(x)\n",
    "x1 = layers.Conv2D(128, kernel_size=(1, 1), padding='same', activation='relu')(x1)\n",
    "x1 = layers.Flatten()(x1)\n",
    "x1 = layers.Dense(1024, activation='relu')(x1)\n",
    "x1 = layers.Dropout(0.2)(x1) #0.7\n",
    "x1 = layers.Dense(5, activation='softmax', name='aux_1')(x1)\n",
    "\n",
    "x = inception(x, 160, 112, 224, 24, 64, 64)\n",
    "x = inception(x, 128, 128, 256, 24, 64, 64)\n",
    "x = inception(x, 112, 144, 288, 32, 64, 64)\n",
    "\n",
    "x2 = layers.AveragePooling2D(pool_size=(3, 3), strides=3)(x)\n",
    "x2 = layers.Conv2D(128, kernel_size=(1, 1), padding='same', activation='relu')(x2)\n",
    "x2 = layers.Flatten()(x2)\n",
    "x2 = layers.Dense(1024, activation='relu')(x2)\n",
    "x2 = layers.Dropout(0.2)(x2) #0.7\n",
    "x2 = layers.Dense(5, activation='softmax', name='aux_2')(x2)\n",
    "\n",
    "x = inception(x, 256, 160, 320, 32, 128, 128)\n",
    "x = layers.MaxPool2D(pool_size=(3, 3), strides=2)(x)\n",
    "\n",
    "x = inception(x, 256, 160, 320, 32, 128, 128)\n",
    "x = inception(x, 384, 192, 384, 48, 128, 128)\n",
    "x = layers.GlobalAveragePooling2D()(x)\n",
    "x = layers.Dropout(0.2)(x) #0.4\n",
    "x = layers.Dense(5, activation='softmax', name='final')(x)\n",
    "\n",
    "googleNet = keras.Model(input_layer, [x, x1, x2])"
   ]
  },
  {
   "cell_type": "code",
   "execution_count": 21,
   "metadata": {},
   "outputs": [
    {
     "name": "stdout",
     "output_type": "stream",
     "text": [
      "Model: \"model_2\"\n",
      "__________________________________________________________________________________________________\n",
      " Layer (type)                   Output Shape         Param #     Connected to                     \n",
      "==================================================================================================\n",
      " input_5 (InputLayer)           [(None, 64, 64, 1)]  0           []                               \n",
      "                                                                                                  \n",
      " conv2d_179 (Conv2D)            (None, 32, 32, 64)   3200        ['input_5[0][0]']                \n",
      "                                                                                                  \n",
      " max_pooling2d_41 (MaxPooling2D  (None, 16, 16, 64)  0           ['conv2d_179[0][0]']             \n",
      " )                                                                                                \n",
      "                                                                                                  \n",
      " conv2d_180 (Conv2D)            (None, 16, 16, 64)   4160        ['max_pooling2d_41[0][0]']       \n",
      "                                                                                                  \n",
      " conv2d_181 (Conv2D)            (None, 16, 16, 192)  110784      ['conv2d_180[0][0]']             \n",
      "                                                                                                  \n",
      " max_pooling2d_42 (MaxPooling2D  (None, 8, 8, 192)   0           ['conv2d_181[0][0]']             \n",
      " )                                                                                                \n",
      "                                                                                                  \n",
      " conv2d_183 (Conv2D)            (None, 8, 8, 96)     18528       ['max_pooling2d_42[0][0]']       \n",
      "                                                                                                  \n",
      " conv2d_185 (Conv2D)            (None, 8, 8, 16)     3088        ['max_pooling2d_42[0][0]']       \n",
      "                                                                                                  \n",
      " max_pooling2d_43 (MaxPooling2D  (None, 8, 8, 192)   0           ['max_pooling2d_42[0][0]']       \n",
      " )                                                                                                \n",
      "                                                                                                  \n",
      " conv2d_182 (Conv2D)            (None, 8, 8, 64)     12352       ['max_pooling2d_42[0][0]']       \n",
      "                                                                                                  \n",
      " conv2d_184 (Conv2D)            (None, 8, 8, 128)    110720      ['conv2d_183[0][0]']             \n",
      "                                                                                                  \n",
      " conv2d_186 (Conv2D)            (None, 8, 8, 32)     12832       ['conv2d_185[0][0]']             \n",
      "                                                                                                  \n",
      " conv2d_187 (Conv2D)            (None, 8, 8, 32)     6176        ['max_pooling2d_43[0][0]']       \n",
      "                                                                                                  \n",
      " concatenate_27 (Concatenate)   (None, 8, 8, 256)    0           ['conv2d_182[0][0]',             \n",
      "                                                                  'conv2d_184[0][0]',             \n",
      "                                                                  'conv2d_186[0][0]',             \n",
      "                                                                  'conv2d_187[0][0]']             \n",
      "                                                                                                  \n",
      " conv2d_189 (Conv2D)            (None, 8, 8, 128)    32896       ['concatenate_27[0][0]']         \n",
      "                                                                                                  \n",
      " conv2d_191 (Conv2D)            (None, 8, 8, 32)     8224        ['concatenate_27[0][0]']         \n",
      "                                                                                                  \n",
      " max_pooling2d_44 (MaxPooling2D  (None, 8, 8, 256)   0           ['concatenate_27[0][0]']         \n",
      " )                                                                                                \n",
      "                                                                                                  \n",
      " conv2d_188 (Conv2D)            (None, 8, 8, 128)    32896       ['concatenate_27[0][0]']         \n",
      "                                                                                                  \n",
      " conv2d_190 (Conv2D)            (None, 8, 8, 192)    221376      ['conv2d_189[0][0]']             \n",
      "                                                                                                  \n",
      " conv2d_192 (Conv2D)            (None, 8, 8, 96)     76896       ['conv2d_191[0][0]']             \n",
      "                                                                                                  \n",
      " conv2d_193 (Conv2D)            (None, 8, 8, 64)     16448       ['max_pooling2d_44[0][0]']       \n",
      "                                                                                                  \n",
      " concatenate_28 (Concatenate)   (None, 8, 8, 480)    0           ['conv2d_188[0][0]',             \n",
      "                                                                  'conv2d_190[0][0]',             \n",
      "                                                                  'conv2d_192[0][0]',             \n",
      "                                                                  'conv2d_193[0][0]']             \n",
      "                                                                                                  \n",
      " max_pooling2d_45 (MaxPooling2D  (None, 3, 3, 480)   0           ['concatenate_28[0][0]']         \n",
      " )                                                                                                \n",
      "                                                                                                  \n",
      " conv2d_195 (Conv2D)            (None, 3, 3, 96)     46176       ['max_pooling2d_45[0][0]']       \n",
      "                                                                                                  \n",
      " conv2d_197 (Conv2D)            (None, 3, 3, 16)     7696        ['max_pooling2d_45[0][0]']       \n",
      "                                                                                                  \n",
      " max_pooling2d_46 (MaxPooling2D  (None, 3, 3, 480)   0           ['max_pooling2d_45[0][0]']       \n",
      " )                                                                                                \n",
      "                                                                                                  \n",
      " conv2d_194 (Conv2D)            (None, 3, 3, 192)    92352       ['max_pooling2d_45[0][0]']       \n",
      "                                                                                                  \n",
      " conv2d_196 (Conv2D)            (None, 3, 3, 208)    179920      ['conv2d_195[0][0]']             \n",
      "                                                                                                  \n",
      " conv2d_198 (Conv2D)            (None, 3, 3, 48)     19248       ['conv2d_197[0][0]']             \n",
      "                                                                                                  \n",
      " conv2d_199 (Conv2D)            (None, 3, 3, 64)     30784       ['max_pooling2d_46[0][0]']       \n",
      "                                                                                                  \n",
      " concatenate_29 (Concatenate)   (None, 3, 3, 512)    0           ['conv2d_194[0][0]',             \n",
      "                                                                  'conv2d_196[0][0]',             \n",
      "                                                                  'conv2d_198[0][0]',             \n",
      "                                                                  'conv2d_199[0][0]']             \n",
      "                                                                                                  \n",
      " conv2d_202 (Conv2D)            (None, 3, 3, 112)    57456       ['concatenate_29[0][0]']         \n",
      "                                                                                                  \n",
      " conv2d_204 (Conv2D)            (None, 3, 3, 24)     12312       ['concatenate_29[0][0]']         \n",
      "                                                                                                  \n",
      " max_pooling2d_47 (MaxPooling2D  (None, 3, 3, 512)   0           ['concatenate_29[0][0]']         \n",
      " )                                                                                                \n",
      "                                                                                                  \n",
      " conv2d_201 (Conv2D)            (None, 3, 3, 160)    82080       ['concatenate_29[0][0]']         \n",
      "                                                                                                  \n",
      " conv2d_203 (Conv2D)            (None, 3, 3, 224)    226016      ['conv2d_202[0][0]']             \n",
      "                                                                                                  \n",
      " conv2d_205 (Conv2D)            (None, 3, 3, 64)     38464       ['conv2d_204[0][0]']             \n",
      "                                                                                                  \n",
      " conv2d_206 (Conv2D)            (None, 3, 3, 64)     32832       ['max_pooling2d_47[0][0]']       \n",
      "                                                                                                  \n",
      " concatenate_30 (Concatenate)   (None, 3, 3, 512)    0           ['conv2d_201[0][0]',             \n",
      "                                                                  'conv2d_203[0][0]',             \n",
      "                                                                  'conv2d_205[0][0]',             \n",
      "                                                                  'conv2d_206[0][0]']             \n",
      "                                                                                                  \n",
      " conv2d_208 (Conv2D)            (None, 3, 3, 128)    65664       ['concatenate_30[0][0]']         \n",
      "                                                                                                  \n",
      " conv2d_210 (Conv2D)            (None, 3, 3, 24)     12312       ['concatenate_30[0][0]']         \n",
      "                                                                                                  \n",
      " max_pooling2d_48 (MaxPooling2D  (None, 3, 3, 512)   0           ['concatenate_30[0][0]']         \n",
      " )                                                                                                \n",
      "                                                                                                  \n",
      " conv2d_207 (Conv2D)            (None, 3, 3, 128)    65664       ['concatenate_30[0][0]']         \n",
      "                                                                                                  \n",
      " conv2d_209 (Conv2D)            (None, 3, 3, 256)    295168      ['conv2d_208[0][0]']             \n",
      "                                                                                                  \n",
      " conv2d_211 (Conv2D)            (None, 3, 3, 64)     38464       ['conv2d_210[0][0]']             \n",
      "                                                                                                  \n",
      " conv2d_212 (Conv2D)            (None, 3, 3, 64)     32832       ['max_pooling2d_48[0][0]']       \n",
      "                                                                                                  \n",
      " concatenate_31 (Concatenate)   (None, 3, 3, 512)    0           ['conv2d_207[0][0]',             \n",
      "                                                                  'conv2d_209[0][0]',             \n",
      "                                                                  'conv2d_211[0][0]',             \n",
      "                                                                  'conv2d_212[0][0]']             \n",
      "                                                                                                  \n",
      " conv2d_214 (Conv2D)            (None, 3, 3, 144)    73872       ['concatenate_31[0][0]']         \n",
      "                                                                                                  \n",
      " conv2d_216 (Conv2D)            (None, 3, 3, 32)     16416       ['concatenate_31[0][0]']         \n",
      "                                                                                                  \n",
      " max_pooling2d_49 (MaxPooling2D  (None, 3, 3, 512)   0           ['concatenate_31[0][0]']         \n",
      " )                                                                                                \n",
      "                                                                                                  \n",
      " conv2d_213 (Conv2D)            (None, 3, 3, 112)    57456       ['concatenate_31[0][0]']         \n",
      "                                                                                                  \n",
      " conv2d_215 (Conv2D)            (None, 3, 3, 288)    373536      ['conv2d_214[0][0]']             \n",
      "                                                                                                  \n",
      " conv2d_217 (Conv2D)            (None, 3, 3, 64)     51264       ['conv2d_216[0][0]']             \n",
      "                                                                                                  \n",
      " conv2d_218 (Conv2D)            (None, 3, 3, 64)     32832       ['max_pooling2d_49[0][0]']       \n",
      "                                                                                                  \n",
      " concatenate_32 (Concatenate)   (None, 3, 3, 528)    0           ['conv2d_213[0][0]',             \n",
      "                                                                  'conv2d_215[0][0]',             \n",
      "                                                                  'conv2d_217[0][0]',             \n",
      "                                                                  'conv2d_218[0][0]']             \n",
      "                                                                                                  \n",
      " conv2d_221 (Conv2D)            (None, 3, 3, 160)    84640       ['concatenate_32[0][0]']         \n",
      "                                                                                                  \n",
      " conv2d_223 (Conv2D)            (None, 3, 3, 32)     16928       ['concatenate_32[0][0]']         \n",
      "                                                                                                  \n",
      " max_pooling2d_50 (MaxPooling2D  (None, 3, 3, 528)   0           ['concatenate_32[0][0]']         \n",
      " )                                                                                                \n",
      "                                                                                                  \n",
      " conv2d_220 (Conv2D)            (None, 3, 3, 256)    135424      ['concatenate_32[0][0]']         \n",
      "                                                                                                  \n",
      " conv2d_222 (Conv2D)            (None, 3, 3, 320)    461120      ['conv2d_221[0][0]']             \n",
      "                                                                                                  \n",
      " conv2d_224 (Conv2D)            (None, 3, 3, 128)    102528      ['conv2d_223[0][0]']             \n",
      "                                                                                                  \n",
      " conv2d_225 (Conv2D)            (None, 3, 3, 128)    67712       ['max_pooling2d_50[0][0]']       \n",
      "                                                                                                  \n",
      " concatenate_33 (Concatenate)   (None, 3, 3, 832)    0           ['conv2d_220[0][0]',             \n",
      "                                                                  'conv2d_222[0][0]',             \n",
      "                                                                  'conv2d_224[0][0]',             \n",
      "                                                                  'conv2d_225[0][0]']             \n",
      "                                                                                                  \n",
      " max_pooling2d_51 (MaxPooling2D  (None, 1, 1, 832)   0           ['concatenate_33[0][0]']         \n",
      " )                                                                                                \n",
      "                                                                                                  \n",
      " conv2d_227 (Conv2D)            (None, 1, 1, 160)    133280      ['max_pooling2d_51[0][0]']       \n",
      "                                                                                                  \n",
      " conv2d_229 (Conv2D)            (None, 1, 1, 32)     26656       ['max_pooling2d_51[0][0]']       \n",
      "                                                                                                  \n",
      " max_pooling2d_52 (MaxPooling2D  (None, 1, 1, 832)   0           ['max_pooling2d_51[0][0]']       \n",
      " )                                                                                                \n",
      "                                                                                                  \n",
      " conv2d_226 (Conv2D)            (None, 1, 1, 256)    213248      ['max_pooling2d_51[0][0]']       \n",
      "                                                                                                  \n",
      " conv2d_228 (Conv2D)            (None, 1, 1, 320)    461120      ['conv2d_227[0][0]']             \n",
      "                                                                                                  \n",
      " conv2d_230 (Conv2D)            (None, 1, 1, 128)    102528      ['conv2d_229[0][0]']             \n",
      "                                                                                                  \n",
      " conv2d_231 (Conv2D)            (None, 1, 1, 128)    106624      ['max_pooling2d_52[0][0]']       \n",
      "                                                                                                  \n",
      " concatenate_34 (Concatenate)   (None, 1, 1, 832)    0           ['conv2d_226[0][0]',             \n",
      "                                                                  'conv2d_228[0][0]',             \n",
      "                                                                  'conv2d_230[0][0]',             \n",
      "                                                                  'conv2d_231[0][0]']             \n",
      "                                                                                                  \n",
      " conv2d_233 (Conv2D)            (None, 1, 1, 192)    159936      ['concatenate_34[0][0]']         \n",
      "                                                                                                  \n",
      " conv2d_235 (Conv2D)            (None, 1, 1, 48)     39984       ['concatenate_34[0][0]']         \n",
      "                                                                                                  \n",
      " max_pooling2d_53 (MaxPooling2D  (None, 1, 1, 832)   0           ['concatenate_34[0][0]']         \n",
      " )                                                                                                \n",
      "                                                                                                  \n",
      " average_pooling2d_7 (AveragePo  (None, 1, 1, 512)   0           ['concatenate_29[0][0]']         \n",
      " oling2D)                                                                                         \n",
      "                                                                                                  \n",
      " average_pooling2d_8 (AveragePo  (None, 1, 1, 528)   0           ['concatenate_32[0][0]']         \n",
      " oling2D)                                                                                         \n",
      "                                                                                                  \n",
      " conv2d_232 (Conv2D)            (None, 1, 1, 384)    319872      ['concatenate_34[0][0]']         \n",
      "                                                                                                  \n",
      " conv2d_234 (Conv2D)            (None, 1, 1, 384)    663936      ['conv2d_233[0][0]']             \n",
      "                                                                                                  \n",
      " conv2d_236 (Conv2D)            (None, 1, 1, 128)    153728      ['conv2d_235[0][0]']             \n",
      "                                                                                                  \n",
      " conv2d_237 (Conv2D)            (None, 1, 1, 128)    106624      ['max_pooling2d_53[0][0]']       \n",
      "                                                                                                  \n",
      " conv2d_200 (Conv2D)            (None, 1, 1, 128)    65664       ['average_pooling2d_7[0][0]']    \n",
      "                                                                                                  \n",
      " conv2d_219 (Conv2D)            (None, 1, 1, 128)    67712       ['average_pooling2d_8[0][0]']    \n",
      "                                                                                                  \n",
      " concatenate_35 (Concatenate)   (None, 1, 1, 1024)   0           ['conv2d_232[0][0]',             \n",
      "                                                                  'conv2d_234[0][0]',             \n",
      "                                                                  'conv2d_236[0][0]',             \n",
      "                                                                  'conv2d_237[0][0]']             \n",
      "                                                                                                  \n",
      " flatten_5 (Flatten)            (None, 128)          0           ['conv2d_200[0][0]']             \n",
      "                                                                                                  \n",
      " flatten_6 (Flatten)            (None, 128)          0           ['conv2d_219[0][0]']             \n",
      "                                                                                                  \n",
      " global_average_pooling2d_2 (Gl  (None, 1024)        0           ['concatenate_35[0][0]']         \n",
      " obalAveragePooling2D)                                                                            \n",
      "                                                                                                  \n",
      " dense_5 (Dense)                (None, 1024)         132096      ['flatten_5[0][0]']              \n",
      "                                                                                                  \n",
      " dense_6 (Dense)                (None, 1024)         132096      ['flatten_6[0][0]']              \n",
      "                                                                                                  \n",
      " dropout_9 (Dropout)            (None, 1024)         0           ['global_average_pooling2d_2[0][0\n",
      "                                                                 ]']                              \n",
      "                                                                                                  \n",
      " dropout_7 (Dropout)            (None, 1024)         0           ['dense_5[0][0]']                \n",
      "                                                                                                  \n",
      " dropout_8 (Dropout)            (None, 1024)         0           ['dense_6[0][0]']                \n",
      "                                                                                                  \n",
      " final (Dense)                  (None, 5)            5125        ['dropout_9[0][0]']              \n",
      "                                                                                                  \n",
      " aux_1 (Dense)                  (None, 5)            5125        ['dropout_7[0][0]']              \n",
      "                                                                                                  \n",
      " aux_2 (Dense)                  (None, 5)            5125        ['dropout_8[0][0]']              \n",
      "                                                                                                  \n",
      "==================================================================================================\n",
      "Total params: 6,380,223\n",
      "Trainable params: 6,380,223\n",
      "Non-trainable params: 0\n",
      "__________________________________________________________________________________________________\n"
     ]
    }
   ],
   "source": [
    "googleNet.summary()"
   ]
  },
  {
   "cell_type": "code",
   "execution_count": 22,
   "metadata": {},
   "outputs": [],
   "source": [
    "googleNet.compile(\n",
    "        optimizer='adam',\n",
    "        # loss=\"sparse_categorical_crossentropy\",\n",
    "        loss='categorical_crossentropy',\n",
    "        metrics=['accuracy']\n",
    ")"
   ]
  },
  {
   "cell_type": "markdown",
   "metadata": {},
   "source": [
    "### 콜백 설정"
   ]
  },
  {
   "cell_type": "code",
   "execution_count": 24,
   "metadata": {},
   "outputs": [],
   "source": [
    "# 콜백 설정\n",
    "from keras.callbacks import EarlyStopping, ModelCheckpoint\n",
    "\n",
    "outDir = './cheakpoint/googleNet/' # 이 경로에 best 모델이 저장된다.\n",
    "model_names = outDir + 'weights-{final_accuracy:.4f}.h5'\n",
    "\n",
    "def get_callbacks(patience = 50): \n",
    "    # with tf.device('/device:GPU:0'):\n",
    "        earlystop = EarlyStopping(monitor='final_accuracy', min_delta=0.0001, patience=patience)\n",
    "        model_checkpoint = ModelCheckpoint(model_names, monitor='final_accuracy', verbose=1, save_best_only=True, period = 1)\n",
    "\n",
    "        # callbacks = [earlystop, model_checkpoint]     # earlystop 사용하고 싶으면 이거 풀고 아래꺼 주석 처리\n",
    "        callbacks = [model_checkpoint]\n",
    "        return callbacks"
   ]
  },
  {
   "cell_type": "markdown",
   "metadata": {},
   "source": [
    "# 학습하기"
   ]
  },
  {
   "cell_type": "code",
   "execution_count": 25,
   "metadata": {},
   "outputs": [
    {
     "name": "stdout",
     "output_type": "stream",
     "text": [
      "WARNING:tensorflow:`period` argument is deprecated. Please use `save_freq` to specify the frequency in number of batches seen.\n",
      "Epoch 1/100\n",
      "590/590 [==============================] - ETA: 0s - loss: 1.6469 - final_loss: 0.5588 - aux_1_loss: 0.5413 - aux_2_loss: 0.5468 - final_accuracy: 0.8407 - aux_1_accuracy: 0.8437 - aux_2_accuracy: 0.8420\n",
      "Epoch 1: final_accuracy improved from -inf to 0.84071, saving model to ./cheakpoint/googleNet\\weights-0.8407.h5\n",
      "590/590 [==============================] - 54s 70ms/step - loss: 1.6469 - final_loss: 0.5588 - aux_1_loss: 0.5413 - aux_2_loss: 0.5468 - final_accuracy: 0.8407 - aux_1_accuracy: 0.8437 - aux_2_accuracy: 0.8420 - val_loss: 0.8684 - val_final_loss: 0.2893 - val_aux_1_loss: 0.2877 - val_aux_2_loss: 0.2914 - val_final_accuracy: 0.9184 - val_aux_1_accuracy: 0.9221 - val_aux_2_accuracy: 0.9189\n",
      "Epoch 2/100\n",
      "589/590 [============================>.] - ETA: 0s - loss: 0.6498 - final_loss: 0.2233 - aux_1_loss: 0.2081 - aux_2_loss: 0.2184 - final_accuracy: 0.9382 - aux_1_accuracy: 0.9418 - aux_2_accuracy: 0.9393\n",
      "Epoch 2: final_accuracy improved from 0.84071 to 0.93824, saving model to ./cheakpoint/googleNet\\weights-0.9382.h5\n",
      "590/590 [==============================] - 37s 63ms/step - loss: 0.6497 - final_loss: 0.2232 - aux_1_loss: 0.2080 - aux_2_loss: 0.2184 - final_accuracy: 0.9382 - aux_1_accuracy: 0.9418 - aux_2_accuracy: 0.9393 - val_loss: 0.5468 - val_final_loss: 0.1794 - val_aux_1_loss: 0.1844 - val_aux_2_loss: 0.1829 - val_final_accuracy: 0.9447 - val_aux_1_accuracy: 0.9426 - val_aux_2_accuracy: 0.9441\n",
      "Epoch 3/100\n",
      "590/590 [==============================] - ETA: 0s - loss: 0.3947 - final_loss: 0.1369 - aux_1_loss: 0.1256 - aux_2_loss: 0.1322 - final_accuracy: 0.9604 - aux_1_accuracy: 0.9617 - aux_2_accuracy: 0.9615\n",
      "Epoch 3: final_accuracy improved from 0.93824 to 0.96035, saving model to ./cheakpoint/googleNet\\weights-0.9604.h5\n",
      "590/590 [==============================] - 37s 63ms/step - loss: 0.3947 - final_loss: 0.1369 - aux_1_loss: 0.1256 - aux_2_loss: 0.1322 - final_accuracy: 0.9604 - aux_1_accuracy: 0.9617 - aux_2_accuracy: 0.9615 - val_loss: 0.3041 - val_final_loss: 0.1041 - val_aux_1_loss: 0.0984 - val_aux_2_loss: 0.1017 - val_final_accuracy: 0.9671 - val_aux_1_accuracy: 0.9691 - val_aux_2_accuracy: 0.9690\n",
      "Epoch 4/100\n",
      "589/590 [============================>.] - ETA: 0s - loss: 0.2959 - final_loss: 0.1020 - aux_1_loss: 0.0958 - aux_2_loss: 0.0982 - final_accuracy: 0.9703 - aux_1_accuracy: 0.9709 - aux_2_accuracy: 0.9710\n",
      "Epoch 4: final_accuracy improved from 0.96035 to 0.97036, saving model to ./cheakpoint/googleNet\\weights-0.9704.h5\n",
      "590/590 [==============================] - 37s 63ms/step - loss: 0.2958 - final_loss: 0.1019 - aux_1_loss: 0.0957 - aux_2_loss: 0.0981 - final_accuracy: 0.9704 - aux_1_accuracy: 0.9709 - aux_2_accuracy: 0.9710 - val_loss: 0.2550 - val_final_loss: 0.0875 - val_aux_1_loss: 0.0821 - val_aux_2_loss: 0.0854 - val_final_accuracy: 0.9746 - val_aux_1_accuracy: 0.9758 - val_aux_2_accuracy: 0.9751\n",
      "Epoch 5/100\n",
      "589/590 [============================>.] - ETA: 0s - loss: 0.2530 - final_loss: 0.0866 - aux_1_loss: 0.0824 - aux_2_loss: 0.0841 - final_accuracy: 0.9750 - aux_1_accuracy: 0.9754 - aux_2_accuracy: 0.9756\n",
      "Epoch 5: final_accuracy improved from 0.97036 to 0.97505, saving model to ./cheakpoint/googleNet\\weights-0.9751.h5\n",
      "590/590 [==============================] - 38s 64ms/step - loss: 0.2529 - final_loss: 0.0865 - aux_1_loss: 0.0823 - aux_2_loss: 0.0840 - final_accuracy: 0.9751 - aux_1_accuracy: 0.9754 - aux_2_accuracy: 0.9756 - val_loss: 0.2683 - val_final_loss: 0.0928 - val_aux_1_loss: 0.0898 - val_aux_2_loss: 0.0857 - val_final_accuracy: 0.9719 - val_aux_1_accuracy: 0.9713 - val_aux_2_accuracy: 0.9741\n",
      "Epoch 6/100\n",
      "589/590 [============================>.] - ETA: 0s - loss: 0.2307 - final_loss: 0.0790 - aux_1_loss: 0.0751 - aux_2_loss: 0.0766 - final_accuracy: 0.9773 - aux_1_accuracy: 0.9776 - aux_2_accuracy: 0.9779\n",
      "Epoch 6: final_accuracy improved from 0.97505 to 0.97728, saving model to ./cheakpoint/googleNet\\weights-0.9773.h5\n",
      "590/590 [==============================] - 38s 64ms/step - loss: 0.2307 - final_loss: 0.0790 - aux_1_loss: 0.0751 - aux_2_loss: 0.0765 - final_accuracy: 0.9773 - aux_1_accuracy: 0.9776 - aux_2_accuracy: 0.9779 - val_loss: 0.2748 - val_final_loss: 0.0975 - val_aux_1_loss: 0.0871 - val_aux_2_loss: 0.0902 - val_final_accuracy: 0.9696 - val_aux_1_accuracy: 0.9725 - val_aux_2_accuracy: 0.9707\n",
      "Epoch 7/100\n",
      "589/590 [============================>.] - ETA: 0s - loss: 0.2074 - final_loss: 0.0709 - aux_1_loss: 0.0678 - aux_2_loss: 0.0687 - final_accuracy: 0.9797 - aux_1_accuracy: 0.9799 - aux_2_accuracy: 0.9801\n",
      "Epoch 7: final_accuracy improved from 0.97728 to 0.97973, saving model to ./cheakpoint/googleNet\\weights-0.9797.h5\n",
      "590/590 [==============================] - 48s 82ms/step - loss: 0.2076 - final_loss: 0.0710 - aux_1_loss: 0.0679 - aux_2_loss: 0.0687 - final_accuracy: 0.9797 - aux_1_accuracy: 0.9799 - aux_2_accuracy: 0.9801 - val_loss: 0.2194 - val_final_loss: 0.0770 - val_aux_1_loss: 0.0695 - val_aux_2_loss: 0.0729 - val_final_accuracy: 0.9773 - val_aux_1_accuracy: 0.9787 - val_aux_2_accuracy: 0.9781\n",
      "Epoch 8/100\n",
      "589/590 [============================>.] - ETA: 0s - loss: 0.1921 - final_loss: 0.0655 - aux_1_loss: 0.0629 - aux_2_loss: 0.0637 - final_accuracy: 0.9804 - aux_1_accuracy: 0.9809 - aux_2_accuracy: 0.9810\n",
      "Epoch 8: final_accuracy improved from 0.97973 to 0.98041, saving model to ./cheakpoint/googleNet\\weights-0.9804.h5\n",
      "590/590 [==============================] - 51s 87ms/step - loss: 0.1920 - final_loss: 0.0654 - aux_1_loss: 0.0629 - aux_2_loss: 0.0636 - final_accuracy: 0.9804 - aux_1_accuracy: 0.9809 - aux_2_accuracy: 0.9810 - val_loss: 0.2308 - val_final_loss: 0.0792 - val_aux_1_loss: 0.0747 - val_aux_2_loss: 0.0769 - val_final_accuracy: 0.9758 - val_aux_1_accuracy: 0.9777 - val_aux_2_accuracy: 0.9772\n",
      "Epoch 9/100\n",
      "590/590 [==============================] - ETA: 0s - loss: 0.1835 - final_loss: 0.0624 - aux_1_loss: 0.0602 - aux_2_loss: 0.0608 - final_accuracy: 0.9822 - aux_1_accuracy: 0.9816 - aux_2_accuracy: 0.9822\n",
      "Epoch 9: final_accuracy improved from 0.98041 to 0.98217, saving model to ./cheakpoint/googleNet\\weights-0.9822.h5\n",
      "590/590 [==============================] - 43s 73ms/step - loss: 0.1835 - final_loss: 0.0624 - aux_1_loss: 0.0602 - aux_2_loss: 0.0608 - final_accuracy: 0.9822 - aux_1_accuracy: 0.9816 - aux_2_accuracy: 0.9822 - val_loss: 0.2169 - val_final_loss: 0.0750 - val_aux_1_loss: 0.0669 - val_aux_2_loss: 0.0750 - val_final_accuracy: 0.9777 - val_aux_1_accuracy: 0.9795 - val_aux_2_accuracy: 0.9777\n",
      "Epoch 10/100\n",
      "590/590 [==============================] - ETA: 0s - loss: 0.1669 - final_loss: 0.0570 - aux_1_loss: 0.0547 - aux_2_loss: 0.0553 - final_accuracy: 0.9838 - aux_1_accuracy: 0.9835 - aux_2_accuracy: 0.9838\n",
      "Epoch 10: final_accuracy improved from 0.98217 to 0.98380, saving model to ./cheakpoint/googleNet\\weights-0.9838.h5\n",
      "590/590 [==============================] - 40s 67ms/step - loss: 0.1669 - final_loss: 0.0570 - aux_1_loss: 0.0547 - aux_2_loss: 0.0553 - final_accuracy: 0.9838 - aux_1_accuracy: 0.9835 - aux_2_accuracy: 0.9838 - val_loss: 0.1870 - val_final_loss: 0.0643 - val_aux_1_loss: 0.0607 - val_aux_2_loss: 0.0620 - val_final_accuracy: 0.9809 - val_aux_1_accuracy: 0.9808 - val_aux_2_accuracy: 0.9814\n",
      "Epoch 11/100\n",
      "589/590 [============================>.] - ETA: 0s - loss: 0.1524 - final_loss: 0.0516 - aux_1_loss: 0.0505 - aux_2_loss: 0.0503 - final_accuracy: 0.9848 - aux_1_accuracy: 0.9850 - aux_2_accuracy: 0.9851\n",
      "Epoch 11: final_accuracy improved from 0.98380 to 0.98484, saving model to ./cheakpoint/googleNet\\weights-0.9848.h5\n",
      "590/590 [==============================] - 38s 64ms/step - loss: 0.1523 - final_loss: 0.0516 - aux_1_loss: 0.0505 - aux_2_loss: 0.0503 - final_accuracy: 0.9848 - aux_1_accuracy: 0.9850 - aux_2_accuracy: 0.9851 - val_loss: 0.2492 - val_final_loss: 0.0870 - val_aux_1_loss: 0.0773 - val_aux_2_loss: 0.0849 - val_final_accuracy: 0.9766 - val_aux_1_accuracy: 0.9777 - val_aux_2_accuracy: 0.9768\n",
      "Epoch 12/100\n",
      "589/590 [============================>.] - ETA: 0s - loss: 0.1492 - final_loss: 0.0506 - aux_1_loss: 0.0495 - aux_2_loss: 0.0491 - final_accuracy: 0.9848 - aux_1_accuracy: 0.9849 - aux_2_accuracy: 0.9851\n",
      "Epoch 12: final_accuracy did not improve from 0.98484\n",
      "590/590 [==============================] - 37s 62ms/step - loss: 0.1494 - final_loss: 0.0507 - aux_1_loss: 0.0495 - aux_2_loss: 0.0491 - final_accuracy: 0.9848 - aux_1_accuracy: 0.9849 - aux_2_accuracy: 0.9851 - val_loss: 0.1963 - val_final_loss: 0.0660 - val_aux_1_loss: 0.0657 - val_aux_2_loss: 0.0647 - val_final_accuracy: 0.9828 - val_aux_1_accuracy: 0.9825 - val_aux_2_accuracy: 0.9835\n",
      "Epoch 13/100\n",
      "590/590 [==============================] - ETA: 0s - loss: 0.1335 - final_loss: 0.0450 - aux_1_loss: 0.0443 - aux_2_loss: 0.0442 - final_accuracy: 0.9864 - aux_1_accuracy: 0.9864 - aux_2_accuracy: 0.9866\n",
      "Epoch 13: final_accuracy improved from 0.98484 to 0.98643, saving model to ./cheakpoint/googleNet\\weights-0.9864.h5\n",
      "590/590 [==============================] - 37s 63ms/step - loss: 0.1335 - final_loss: 0.0450 - aux_1_loss: 0.0443 - aux_2_loss: 0.0442 - final_accuracy: 0.9864 - aux_1_accuracy: 0.9864 - aux_2_accuracy: 0.9866 - val_loss: 0.2099 - val_final_loss: 0.0687 - val_aux_1_loss: 0.0732 - val_aux_2_loss: 0.0680 - val_final_accuracy: 0.9803 - val_aux_1_accuracy: 0.9807 - val_aux_2_accuracy: 0.9804\n",
      "Epoch 14/100\n",
      "589/590 [============================>.] - ETA: 0s - loss: 0.1379 - final_loss: 0.0470 - aux_1_loss: 0.0452 - aux_2_loss: 0.0457 - final_accuracy: 0.9862 - aux_1_accuracy: 0.9865 - aux_2_accuracy: 0.9866\n",
      "Epoch 14: final_accuracy did not improve from 0.98643\n",
      "590/590 [==============================] - 37s 63ms/step - loss: 0.1379 - final_loss: 0.0470 - aux_1_loss: 0.0452 - aux_2_loss: 0.0457 - final_accuracy: 0.9862 - aux_1_accuracy: 0.9865 - aux_2_accuracy: 0.9866 - val_loss: 0.1955 - val_final_loss: 0.0676 - val_aux_1_loss: 0.0620 - val_aux_2_loss: 0.0659 - val_final_accuracy: 0.9792 - val_aux_1_accuracy: 0.9810 - val_aux_2_accuracy: 0.9800\n",
      "Epoch 15/100\n",
      "589/590 [============================>.] - ETA: 0s - loss: 0.1196 - final_loss: 0.0404 - aux_1_loss: 0.0402 - aux_2_loss: 0.0390 - final_accuracy: 0.9875 - aux_1_accuracy: 0.9873 - aux_2_accuracy: 0.9881\n",
      "Epoch 15: final_accuracy improved from 0.98643 to 0.98755, saving model to ./cheakpoint/googleNet\\weights-0.9876.h5\n",
      "590/590 [==============================] - 65s 111ms/step - loss: 0.1195 - final_loss: 0.0404 - aux_1_loss: 0.0402 - aux_2_loss: 0.0390 - final_accuracy: 0.9876 - aux_1_accuracy: 0.9873 - aux_2_accuracy: 0.9881 - val_loss: 0.1816 - val_final_loss: 0.0611 - val_aux_1_loss: 0.0585 - val_aux_2_loss: 0.0620 - val_final_accuracy: 0.9825 - val_aux_1_accuracy: 0.9829 - val_aux_2_accuracy: 0.9825\n",
      "Epoch 16/100\n",
      "590/590 [==============================] - ETA: 0s - loss: 0.1247 - final_loss: 0.0422 - aux_1_loss: 0.0409 - aux_2_loss: 0.0416 - final_accuracy: 0.9878 - aux_1_accuracy: 0.9874 - aux_2_accuracy: 0.9877\n",
      "Epoch 16: final_accuracy improved from 0.98755 to 0.98784, saving model to ./cheakpoint/googleNet\\weights-0.9878.h5\n",
      "590/590 [==============================] - 143s 243ms/step - loss: 0.1247 - final_loss: 0.0422 - aux_1_loss: 0.0409 - aux_2_loss: 0.0416 - final_accuracy: 0.9878 - aux_1_accuracy: 0.9874 - aux_2_accuracy: 0.9877 - val_loss: 0.1909 - val_final_loss: 0.0639 - val_aux_1_loss: 0.0646 - val_aux_2_loss: 0.0624 - val_final_accuracy: 0.9831 - val_aux_1_accuracy: 0.9830 - val_aux_2_accuracy: 0.9831\n",
      "Epoch 17/100\n",
      "590/590 [==============================] - ETA: 0s - loss: 0.1040 - final_loss: 0.0352 - aux_1_loss: 0.0347 - aux_2_loss: 0.0341 - final_accuracy: 0.9890 - aux_1_accuracy: 0.9891 - aux_2_accuracy: 0.9894\n",
      "Epoch 17: final_accuracy improved from 0.98784 to 0.98902, saving model to ./cheakpoint/googleNet\\weights-0.9890.h5\n",
      "590/590 [==============================] - 139s 235ms/step - loss: 0.1040 - final_loss: 0.0352 - aux_1_loss: 0.0347 - aux_2_loss: 0.0341 - final_accuracy: 0.9890 - aux_1_accuracy: 0.9891 - aux_2_accuracy: 0.9894 - val_loss: 0.2289 - val_final_loss: 0.0798 - val_aux_1_loss: 0.0744 - val_aux_2_loss: 0.0747 - val_final_accuracy: 0.9790 - val_aux_1_accuracy: 0.9809 - val_aux_2_accuracy: 0.9804\n",
      "Epoch 18/100\n",
      "589/590 [============================>.] - ETA: 0s - loss: 0.1032 - final_loss: 0.0349 - aux_1_loss: 0.0346 - aux_2_loss: 0.0336 - final_accuracy: 0.9894 - aux_1_accuracy: 0.9894 - aux_2_accuracy: 0.9898\n",
      "Epoch 18: final_accuracy improved from 0.98902 to 0.98945, saving model to ./cheakpoint/googleNet\\weights-0.9894.h5\n",
      "590/590 [==============================] - 143s 244ms/step - loss: 0.1031 - final_loss: 0.0349 - aux_1_loss: 0.0346 - aux_2_loss: 0.0336 - final_accuracy: 0.9894 - aux_1_accuracy: 0.9894 - aux_2_accuracy: 0.9898 - val_loss: 0.2063 - val_final_loss: 0.0698 - val_aux_1_loss: 0.0661 - val_aux_2_loss: 0.0704 - val_final_accuracy: 0.9807 - val_aux_1_accuracy: 0.9800 - val_aux_2_accuracy: 0.9807\n",
      "Epoch 19/100\n",
      "590/590 [==============================] - ETA: 0s - loss: 0.1008 - final_loss: 0.0337 - aux_1_loss: 0.0345 - aux_2_loss: 0.0326 - final_accuracy: 0.9898 - aux_1_accuracy: 0.9891 - aux_2_accuracy: 0.9898\n",
      "Epoch 19: final_accuracy improved from 0.98945 to 0.98975, saving model to ./cheakpoint/googleNet\\weights-0.9898.h5\n",
      "590/590 [==============================] - 144s 245ms/step - loss: 0.1008 - final_loss: 0.0337 - aux_1_loss: 0.0345 - aux_2_loss: 0.0326 - final_accuracy: 0.9898 - aux_1_accuracy: 0.9891 - aux_2_accuracy: 0.9898 - val_loss: 0.1661 - val_final_loss: 0.0551 - val_aux_1_loss: 0.0558 - val_aux_2_loss: 0.0553 - val_final_accuracy: 0.9841 - val_aux_1_accuracy: 0.9831 - val_aux_2_accuracy: 0.9839\n",
      "Epoch 20/100\n",
      "590/590 [==============================] - ETA: 0s - loss: 0.1004 - final_loss: 0.0336 - aux_1_loss: 0.0337 - aux_2_loss: 0.0331 - final_accuracy: 0.9896 - aux_1_accuracy: 0.9895 - aux_2_accuracy: 0.9896\n",
      "Epoch 20: final_accuracy did not improve from 0.98975\n",
      "590/590 [==============================] - 142s 241ms/step - loss: 0.1004 - final_loss: 0.0336 - aux_1_loss: 0.0337 - aux_2_loss: 0.0331 - final_accuracy: 0.9896 - aux_1_accuracy: 0.9895 - aux_2_accuracy: 0.9896 - val_loss: 0.1894 - val_final_loss: 0.0646 - val_aux_1_loss: 0.0620 - val_aux_2_loss: 0.0629 - val_final_accuracy: 0.9831 - val_aux_1_accuracy: 0.9835 - val_aux_2_accuracy: 0.9837\n",
      "Epoch 21/100\n",
      "590/590 [==============================] - ETA: 0s - loss: 0.0813 - final_loss: 0.0274 - aux_1_loss: 0.0275 - aux_2_loss: 0.0264 - final_accuracy: 0.9913 - aux_1_accuracy: 0.9909 - aux_2_accuracy: 0.9916\n",
      "Epoch 21: final_accuracy improved from 0.98975 to 0.99134, saving model to ./cheakpoint/googleNet\\weights-0.9913.h5\n",
      "590/590 [==============================] - 141s 239ms/step - loss: 0.0813 - final_loss: 0.0274 - aux_1_loss: 0.0275 - aux_2_loss: 0.0264 - final_accuracy: 0.9913 - aux_1_accuracy: 0.9909 - aux_2_accuracy: 0.9916 - val_loss: 0.1968 - val_final_loss: 0.0645 - val_aux_1_loss: 0.0652 - val_aux_2_loss: 0.0671 - val_final_accuracy: 0.9828 - val_aux_1_accuracy: 0.9834 - val_aux_2_accuracy: 0.9825\n",
      "Epoch 22/100\n",
      "590/590 [==============================] - ETA: 0s - loss: 0.0836 - final_loss: 0.0280 - aux_1_loss: 0.0285 - aux_2_loss: 0.0271 - final_accuracy: 0.9916 - aux_1_accuracy: 0.9908 - aux_2_accuracy: 0.9916\n",
      "Epoch 22: final_accuracy improved from 0.99134 to 0.99164, saving model to ./cheakpoint/googleNet\\weights-0.9916.h5\n",
      "590/590 [==============================] - 143s 243ms/step - loss: 0.0836 - final_loss: 0.0280 - aux_1_loss: 0.0285 - aux_2_loss: 0.0271 - final_accuracy: 0.9916 - aux_1_accuracy: 0.9908 - aux_2_accuracy: 0.9916 - val_loss: 0.2230 - val_final_loss: 0.0799 - val_aux_1_loss: 0.0682 - val_aux_2_loss: 0.0750 - val_final_accuracy: 0.9825 - val_aux_1_accuracy: 0.9825 - val_aux_2_accuracy: 0.9824\n",
      "Epoch 23/100\n",
      "590/590 [==============================] - ETA: 0s - loss: 0.0763 - final_loss: 0.0259 - aux_1_loss: 0.0255 - aux_2_loss: 0.0249 - final_accuracy: 0.9917 - aux_1_accuracy: 0.9916 - aux_2_accuracy: 0.9920\n",
      "Epoch 23: final_accuracy improved from 0.99164 to 0.99174, saving model to ./cheakpoint/googleNet\\weights-0.9917.h5\n",
      "590/590 [==============================] - 138s 235ms/step - loss: 0.0763 - final_loss: 0.0259 - aux_1_loss: 0.0255 - aux_2_loss: 0.0249 - final_accuracy: 0.9917 - aux_1_accuracy: 0.9916 - aux_2_accuracy: 0.9920 - val_loss: 0.1985 - val_final_loss: 0.0681 - val_aux_1_loss: 0.0635 - val_aux_2_loss: 0.0669 - val_final_accuracy: 0.9808 - val_aux_1_accuracy: 0.9821 - val_aux_2_accuracy: 0.9822\n",
      "Epoch 24/100\n",
      "590/590 [==============================] - ETA: 0s - loss: 0.0711 - final_loss: 0.0240 - aux_1_loss: 0.0240 - aux_2_loss: 0.0231 - final_accuracy: 0.9922 - aux_1_accuracy: 0.9918 - aux_2_accuracy: 0.9924\n",
      "Epoch 24: final_accuracy improved from 0.99174 to 0.99223, saving model to ./cheakpoint/googleNet\\weights-0.9922.h5\n",
      "590/590 [==============================] - 138s 234ms/step - loss: 0.0711 - final_loss: 0.0240 - aux_1_loss: 0.0240 - aux_2_loss: 0.0231 - final_accuracy: 0.9922 - aux_1_accuracy: 0.9918 - aux_2_accuracy: 0.9924 - val_loss: 0.1816 - val_final_loss: 0.0598 - val_aux_1_loss: 0.0608 - val_aux_2_loss: 0.0610 - val_final_accuracy: 0.9834 - val_aux_1_accuracy: 0.9836 - val_aux_2_accuracy: 0.9834\n",
      "Epoch 25/100\n",
      "590/590 [==============================] - ETA: 0s - loss: 0.0690 - final_loss: 0.0229 - aux_1_loss: 0.0240 - aux_2_loss: 0.0221 - final_accuracy: 0.9927 - aux_1_accuracy: 0.9923 - aux_2_accuracy: 0.9929\n",
      "Epoch 25: final_accuracy improved from 0.99223 to 0.99268, saving model to ./cheakpoint/googleNet\\weights-0.9927.h5\n",
      "590/590 [==============================] - 142s 240ms/step - loss: 0.0690 - final_loss: 0.0229 - aux_1_loss: 0.0240 - aux_2_loss: 0.0221 - final_accuracy: 0.9927 - aux_1_accuracy: 0.9923 - aux_2_accuracy: 0.9929 - val_loss: 0.1945 - val_final_loss: 0.0644 - val_aux_1_loss: 0.0635 - val_aux_2_loss: 0.0666 - val_final_accuracy: 0.9833 - val_aux_1_accuracy: 0.9821 - val_aux_2_accuracy: 0.9831\n",
      "Epoch 26/100\n",
      "589/590 [============================>.] - ETA: 0s - loss: 0.0671 - final_loss: 0.0228 - aux_1_loss: 0.0225 - aux_2_loss: 0.0218 - final_accuracy: 0.9930 - aux_1_accuracy: 0.9927 - aux_2_accuracy: 0.9931\n",
      "Epoch 26: final_accuracy improved from 0.99268 to 0.99296, saving model to ./cheakpoint/googleNet\\weights-0.9930.h5\n",
      "590/590 [==============================] - 139s 235ms/step - loss: 0.0672 - final_loss: 0.0228 - aux_1_loss: 0.0226 - aux_2_loss: 0.0218 - final_accuracy: 0.9930 - aux_1_accuracy: 0.9927 - aux_2_accuracy: 0.9931 - val_loss: 0.2531 - val_final_loss: 0.0841 - val_aux_1_loss: 0.0792 - val_aux_2_loss: 0.0897 - val_final_accuracy: 0.9811 - val_aux_1_accuracy: 0.9824 - val_aux_2_accuracy: 0.9814\n",
      "Epoch 27/100\n",
      "589/590 [============================>.] - ETA: 0s - loss: 0.0732 - final_loss: 0.0243 - aux_1_loss: 0.0251 - aux_2_loss: 0.0238 - final_accuracy: 0.9924 - aux_1_accuracy: 0.9920 - aux_2_accuracy: 0.9925\n",
      "Epoch 27: final_accuracy did not improve from 0.99296\n",
      "590/590 [==============================] - 114s 190ms/step - loss: 0.0732 - final_loss: 0.0243 - aux_1_loss: 0.0250 - aux_2_loss: 0.0238 - final_accuracy: 0.9924 - aux_1_accuracy: 0.9920 - aux_2_accuracy: 0.9926 - val_loss: 0.1925 - val_final_loss: 0.0652 - val_aux_1_loss: 0.0630 - val_aux_2_loss: 0.0644 - val_final_accuracy: 0.9832 - val_aux_1_accuracy: 0.9841 - val_aux_2_accuracy: 0.9833\n",
      "Epoch 28/100\n",
      "590/590 [==============================] - ETA: 0s - loss: 0.0645 - final_loss: 0.0215 - aux_1_loss: 0.0219 - aux_2_loss: 0.0210 - final_accuracy: 0.9931 - aux_1_accuracy: 0.9930 - aux_2_accuracy: 0.9934\n",
      "Epoch 28: final_accuracy improved from 0.99296 to 0.99309, saving model to ./cheakpoint/googleNet\\weights-0.9931.h5\n",
      "590/590 [==============================] - 69s 116ms/step - loss: 0.0645 - final_loss: 0.0215 - aux_1_loss: 0.0219 - aux_2_loss: 0.0210 - final_accuracy: 0.9931 - aux_1_accuracy: 0.9930 - aux_2_accuracy: 0.9934 - val_loss: 0.2559 - val_final_loss: 0.0832 - val_aux_1_loss: 0.0918 - val_aux_2_loss: 0.0809 - val_final_accuracy: 0.9842 - val_aux_1_accuracy: 0.9821 - val_aux_2_accuracy: 0.9839\n",
      "Epoch 29/100\n",
      "589/590 [============================>.] - ETA: 0s - loss: 0.0626 - final_loss: 0.0208 - aux_1_loss: 0.0216 - aux_2_loss: 0.0201 - final_accuracy: 0.9938 - aux_1_accuracy: 0.9929 - aux_2_accuracy: 0.9938\n",
      "Epoch 29: final_accuracy improved from 0.99309 to 0.99384, saving model to ./cheakpoint/googleNet\\weights-0.9938.h5\n",
      "590/590 [==============================] - 45s 76ms/step - loss: 0.0627 - final_loss: 0.0209 - aux_1_loss: 0.0217 - aux_2_loss: 0.0201 - final_accuracy: 0.9938 - aux_1_accuracy: 0.9929 - aux_2_accuracy: 0.9937 - val_loss: 0.2174 - val_final_loss: 0.0727 - val_aux_1_loss: 0.0712 - val_aux_2_loss: 0.0735 - val_final_accuracy: 0.9817 - val_aux_1_accuracy: 0.9834 - val_aux_2_accuracy: 0.9821\n",
      "Epoch 30/100\n",
      "589/590 [============================>.] - ETA: 0s - loss: 0.0516 - final_loss: 0.0170 - aux_1_loss: 0.0179 - aux_2_loss: 0.0167 - final_accuracy: 0.9945 - aux_1_accuracy: 0.9939 - aux_2_accuracy: 0.9943\n",
      "Epoch 30: final_accuracy improved from 0.99384 to 0.99451, saving model to ./cheakpoint/googleNet\\weights-0.9945.h5\n",
      "590/590 [==============================] - 39s 67ms/step - loss: 0.0515 - final_loss: 0.0170 - aux_1_loss: 0.0179 - aux_2_loss: 0.0167 - final_accuracy: 0.9945 - aux_1_accuracy: 0.9939 - aux_2_accuracy: 0.9943 - val_loss: 0.2333 - val_final_loss: 0.0805 - val_aux_1_loss: 0.0766 - val_aux_2_loss: 0.0762 - val_final_accuracy: 0.9835 - val_aux_1_accuracy: 0.9839 - val_aux_2_accuracy: 0.9835\n",
      "Epoch 31/100\n",
      "589/590 [============================>.] - ETA: 0s - loss: 0.0594 - final_loss: 0.0200 - aux_1_loss: 0.0207 - aux_2_loss: 0.0187 - final_accuracy: 0.9941 - aux_1_accuracy: 0.9930 - aux_2_accuracy: 0.9941\n",
      "Epoch 31: final_accuracy did not improve from 0.99451\n",
      "590/590 [==============================] - 39s 66ms/step - loss: 0.0594 - final_loss: 0.0200 - aux_1_loss: 0.0207 - aux_2_loss: 0.0187 - final_accuracy: 0.9941 - aux_1_accuracy: 0.9930 - aux_2_accuracy: 0.9941 - val_loss: 0.2282 - val_final_loss: 0.0816 - val_aux_1_loss: 0.0711 - val_aux_2_loss: 0.0755 - val_final_accuracy: 0.9807 - val_aux_1_accuracy: 0.9821 - val_aux_2_accuracy: 0.9805\n",
      "Epoch 32/100\n",
      "589/590 [============================>.] - ETA: 0s - loss: 0.0600 - final_loss: 0.0201 - aux_1_loss: 0.0206 - aux_2_loss: 0.0193 - final_accuracy: 0.9934 - aux_1_accuracy: 0.9933 - aux_2_accuracy: 0.9936\n",
      "Epoch 32: final_accuracy did not improve from 0.99451\n",
      "590/590 [==============================] - 39s 66ms/step - loss: 0.0599 - final_loss: 0.0201 - aux_1_loss: 0.0206 - aux_2_loss: 0.0193 - final_accuracy: 0.9934 - aux_1_accuracy: 0.9933 - aux_2_accuracy: 0.9936 - val_loss: 0.2427 - val_final_loss: 0.0806 - val_aux_1_loss: 0.0771 - val_aux_2_loss: 0.0850 - val_final_accuracy: 0.9839 - val_aux_1_accuracy: 0.9838 - val_aux_2_accuracy: 0.9839\n",
      "Epoch 33/100\n",
      "590/590 [==============================] - ETA: 0s - loss: 0.0594 - final_loss: 0.0201 - aux_1_loss: 0.0202 - aux_2_loss: 0.0191 - final_accuracy: 0.9937 - aux_1_accuracy: 0.9934 - aux_2_accuracy: 0.9938\n",
      "Epoch 33: final_accuracy did not improve from 0.99451\n",
      "590/590 [==============================] - 39s 66ms/step - loss: 0.0594 - final_loss: 0.0201 - aux_1_loss: 0.0202 - aux_2_loss: 0.0191 - final_accuracy: 0.9937 - aux_1_accuracy: 0.9934 - aux_2_accuracy: 0.9938 - val_loss: 0.2505 - val_final_loss: 0.0878 - val_aux_1_loss: 0.0789 - val_aux_2_loss: 0.0838 - val_final_accuracy: 0.9848 - val_aux_1_accuracy: 0.9835 - val_aux_2_accuracy: 0.9845\n",
      "Epoch 34/100\n",
      "590/590 [==============================] - ETA: 0s - loss: 0.0446 - final_loss: 0.0148 - aux_1_loss: 0.0159 - aux_2_loss: 0.0139 - final_accuracy: 0.9952 - aux_1_accuracy: 0.9948 - aux_2_accuracy: 0.9953\n",
      "Epoch 34: final_accuracy improved from 0.99451 to 0.99523, saving model to ./cheakpoint/googleNet\\weights-0.9952.h5\n",
      "590/590 [==============================] - 39s 66ms/step - loss: 0.0446 - final_loss: 0.0148 - aux_1_loss: 0.0159 - aux_2_loss: 0.0139 - final_accuracy: 0.9952 - aux_1_accuracy: 0.9948 - aux_2_accuracy: 0.9953 - val_loss: 0.2737 - val_final_loss: 0.0877 - val_aux_1_loss: 0.0938 - val_aux_2_loss: 0.0921 - val_final_accuracy: 0.9836 - val_aux_1_accuracy: 0.9835 - val_aux_2_accuracy: 0.9836\n",
      "Epoch 35/100\n",
      "590/590 [==============================] - ETA: 0s - loss: 0.0532 - final_loss: 0.0180 - aux_1_loss: 0.0182 - aux_2_loss: 0.0170 - final_accuracy: 0.9946 - aux_1_accuracy: 0.9942 - aux_2_accuracy: 0.9948\n",
      "Epoch 35: final_accuracy did not improve from 0.99523\n",
      "590/590 [==============================] - 38s 65ms/step - loss: 0.0532 - final_loss: 0.0180 - aux_1_loss: 0.0182 - aux_2_loss: 0.0170 - final_accuracy: 0.9946 - aux_1_accuracy: 0.9942 - aux_2_accuracy: 0.9948 - val_loss: 0.3277 - val_final_loss: 0.0995 - val_aux_1_loss: 0.1205 - val_aux_2_loss: 0.1078 - val_final_accuracy: 0.9813 - val_aux_1_accuracy: 0.9807 - val_aux_2_accuracy: 0.9814\n",
      "Epoch 36/100\n",
      "590/590 [==============================] - ETA: 0s - loss: 0.0470 - final_loss: 0.0156 - aux_1_loss: 0.0164 - aux_2_loss: 0.0150 - final_accuracy: 0.9947 - aux_1_accuracy: 0.9942 - aux_2_accuracy: 0.9948\n",
      "Epoch 36: final_accuracy did not improve from 0.99523\n",
      "590/590 [==============================] - 37s 63ms/step - loss: 0.0470 - final_loss: 0.0156 - aux_1_loss: 0.0164 - aux_2_loss: 0.0150 - final_accuracy: 0.9947 - aux_1_accuracy: 0.9942 - aux_2_accuracy: 0.9948 - val_loss: 0.2242 - val_final_loss: 0.0741 - val_aux_1_loss: 0.0756 - val_aux_2_loss: 0.0745 - val_final_accuracy: 0.9832 - val_aux_1_accuracy: 0.9828 - val_aux_2_accuracy: 0.9834\n",
      "Epoch 37/100\n",
      "590/590 [==============================] - ETA: 0s - loss: 0.0572 - final_loss: 0.0196 - aux_1_loss: 0.0190 - aux_2_loss: 0.0186 - final_accuracy: 0.9941 - aux_1_accuracy: 0.9939 - aux_2_accuracy: 0.9944\n",
      "Epoch 37: final_accuracy did not improve from 0.99523\n",
      "590/590 [==============================] - 37s 63ms/step - loss: 0.0572 - final_loss: 0.0196 - aux_1_loss: 0.0190 - aux_2_loss: 0.0186 - final_accuracy: 0.9941 - aux_1_accuracy: 0.9939 - aux_2_accuracy: 0.9944 - val_loss: 0.2204 - val_final_loss: 0.0800 - val_aux_1_loss: 0.0700 - val_aux_2_loss: 0.0705 - val_final_accuracy: 0.9825 - val_aux_1_accuracy: 0.9820 - val_aux_2_accuracy: 0.9828\n",
      "Epoch 38/100\n",
      "589/590 [============================>.] - ETA: 0s - loss: 0.0511 - final_loss: 0.0170 - aux_1_loss: 0.0177 - aux_2_loss: 0.0164 - final_accuracy: 0.9947 - aux_1_accuracy: 0.9940 - aux_2_accuracy: 0.9947\n",
      "Epoch 38: final_accuracy did not improve from 0.99523\n",
      "590/590 [==============================] - 37s 63ms/step - loss: 0.0511 - final_loss: 0.0170 - aux_1_loss: 0.0177 - aux_2_loss: 0.0164 - final_accuracy: 0.9947 - aux_1_accuracy: 0.9940 - aux_2_accuracy: 0.9947 - val_loss: 0.2453 - val_final_loss: 0.0789 - val_aux_1_loss: 0.0818 - val_aux_2_loss: 0.0846 - val_final_accuracy: 0.9847 - val_aux_1_accuracy: 0.9837 - val_aux_2_accuracy: 0.9848\n",
      "Epoch 39/100\n",
      "590/590 [==============================] - ETA: 0s - loss: 0.0381 - final_loss: 0.0127 - aux_1_loss: 0.0135 - aux_2_loss: 0.0119 - final_accuracy: 0.9960 - aux_1_accuracy: 0.9955 - aux_2_accuracy: 0.9960\n",
      "Epoch 39: final_accuracy improved from 0.99523 to 0.99598, saving model to ./cheakpoint/googleNet\\weights-0.9960.h5\n",
      "590/590 [==============================] - 38s 64ms/step - loss: 0.0381 - final_loss: 0.0127 - aux_1_loss: 0.0135 - aux_2_loss: 0.0119 - final_accuracy: 0.9960 - aux_1_accuracy: 0.9955 - aux_2_accuracy: 0.9960 - val_loss: 0.2545 - val_final_loss: 0.0875 - val_aux_1_loss: 0.0803 - val_aux_2_loss: 0.0867 - val_final_accuracy: 0.9809 - val_aux_1_accuracy: 0.9804 - val_aux_2_accuracy: 0.9799\n",
      "Epoch 40/100\n",
      "590/590 [==============================] - ETA: 0s - loss: 0.0415 - final_loss: 0.0138 - aux_1_loss: 0.0140 - aux_2_loss: 0.0137 - final_accuracy: 0.9956 - aux_1_accuracy: 0.9954 - aux_2_accuracy: 0.9957\n",
      "Epoch 40: final_accuracy did not improve from 0.99598\n",
      "590/590 [==============================] - 58s 98ms/step - loss: 0.0415 - final_loss: 0.0138 - aux_1_loss: 0.0140 - aux_2_loss: 0.0137 - final_accuracy: 0.9956 - aux_1_accuracy: 0.9954 - aux_2_accuracy: 0.9957 - val_loss: 0.2334 - val_final_loss: 0.0858 - val_aux_1_loss: 0.0676 - val_aux_2_loss: 0.0800 - val_final_accuracy: 0.9848 - val_aux_1_accuracy: 0.9843 - val_aux_2_accuracy: 0.9854\n",
      "Epoch 41/100\n",
      "590/590 [==============================] - ETA: 0s - loss: 0.0500 - final_loss: 0.0167 - aux_1_loss: 0.0170 - aux_2_loss: 0.0163 - final_accuracy: 0.9952 - aux_1_accuracy: 0.9949 - aux_2_accuracy: 0.9951\n",
      "Epoch 41: final_accuracy did not improve from 0.99598\n",
      "590/590 [==============================] - 109s 184ms/step - loss: 0.0500 - final_loss: 0.0167 - aux_1_loss: 0.0170 - aux_2_loss: 0.0163 - final_accuracy: 0.9952 - aux_1_accuracy: 0.9949 - aux_2_accuracy: 0.9951 - val_loss: 0.2908 - val_final_loss: 0.0907 - val_aux_1_loss: 0.1033 - val_aux_2_loss: 0.0969 - val_final_accuracy: 0.9840 - val_aux_1_accuracy: 0.9820 - val_aux_2_accuracy: 0.9839\n",
      "Epoch 42/100\n",
      "590/590 [==============================] - ETA: 0s - loss: 0.0527 - final_loss: 0.0166 - aux_1_loss: 0.0170 - aux_2_loss: 0.0191 - final_accuracy: 0.9947 - aux_1_accuracy: 0.9944 - aux_2_accuracy: 0.9948\n",
      "Epoch 42: final_accuracy did not improve from 0.99598\n",
      "590/590 [==============================] - 37s 63ms/step - loss: 0.0527 - final_loss: 0.0166 - aux_1_loss: 0.0170 - aux_2_loss: 0.0191 - final_accuracy: 0.9947 - aux_1_accuracy: 0.9944 - aux_2_accuracy: 0.9948 - val_loss: 0.2452 - val_final_loss: 0.0864 - val_aux_1_loss: 0.0762 - val_aux_2_loss: 0.0826 - val_final_accuracy: 0.9848 - val_aux_1_accuracy: 0.9851 - val_aux_2_accuracy: 0.9848\n",
      "Epoch 43/100\n",
      "590/590 [==============================] - ETA: 0s - loss: 0.0402 - final_loss: 0.0131 - aux_1_loss: 0.0140 - aux_2_loss: 0.0131 - final_accuracy: 0.9961 - aux_1_accuracy: 0.9954 - aux_2_accuracy: 0.9958\n",
      "Epoch 43: final_accuracy improved from 0.99598 to 0.99609, saving model to ./cheakpoint/googleNet\\weights-0.9961.h5\n",
      "590/590 [==============================] - 38s 64ms/step - loss: 0.0402 - final_loss: 0.0131 - aux_1_loss: 0.0140 - aux_2_loss: 0.0131 - final_accuracy: 0.9961 - aux_1_accuracy: 0.9954 - aux_2_accuracy: 0.9958 - val_loss: 0.3016 - val_final_loss: 0.1015 - val_aux_1_loss: 0.1014 - val_aux_2_loss: 0.0987 - val_final_accuracy: 0.9839 - val_aux_1_accuracy: 0.9831 - val_aux_2_accuracy: 0.9837\n",
      "Epoch 44/100\n",
      "590/590 [==============================] - ETA: 0s - loss: 0.0340 - final_loss: 0.0114 - aux_1_loss: 0.0117 - aux_2_loss: 0.0108 - final_accuracy: 0.9964 - aux_1_accuracy: 0.9961 - aux_2_accuracy: 0.9965\n",
      "Epoch 44: final_accuracy improved from 0.99609 to 0.99641, saving model to ./cheakpoint/googleNet\\weights-0.9964.h5\n",
      "590/590 [==============================] - 38s 64ms/step - loss: 0.0340 - final_loss: 0.0114 - aux_1_loss: 0.0117 - aux_2_loss: 0.0108 - final_accuracy: 0.9964 - aux_1_accuracy: 0.9961 - aux_2_accuracy: 0.9965 - val_loss: 0.2901 - val_final_loss: 0.0964 - val_aux_1_loss: 0.0968 - val_aux_2_loss: 0.0969 - val_final_accuracy: 0.9853 - val_aux_1_accuracy: 0.9852 - val_aux_2_accuracy: 0.9852\n",
      "Epoch 45/100\n",
      "590/590 [==============================] - ETA: 0s - loss: 0.0392 - final_loss: 0.0135 - aux_1_loss: 0.0134 - aux_2_loss: 0.0124 - final_accuracy: 0.9960 - aux_1_accuracy: 0.9956 - aux_2_accuracy: 0.9961\n",
      "Epoch 45: final_accuracy did not improve from 0.99641\n",
      "590/590 [==============================] - 37s 63ms/step - loss: 0.0392 - final_loss: 0.0135 - aux_1_loss: 0.0134 - aux_2_loss: 0.0124 - final_accuracy: 0.9960 - aux_1_accuracy: 0.9956 - aux_2_accuracy: 0.9961 - val_loss: 0.2641 - val_final_loss: 0.0890 - val_aux_1_loss: 0.0837 - val_aux_2_loss: 0.0914 - val_final_accuracy: 0.9845 - val_aux_1_accuracy: 0.9841 - val_aux_2_accuracy: 0.9848\n",
      "Epoch 46/100\n",
      "589/590 [============================>.] - ETA: 0s - loss: 0.0442 - final_loss: 0.0146 - aux_1_loss: 0.0155 - aux_2_loss: 0.0140 - final_accuracy: 0.9954 - aux_1_accuracy: 0.9952 - aux_2_accuracy: 0.9953\n",
      "Epoch 46: final_accuracy did not improve from 0.99641\n",
      "590/590 [==============================] - 37s 63ms/step - loss: 0.0441 - final_loss: 0.0146 - aux_1_loss: 0.0155 - aux_2_loss: 0.0140 - final_accuracy: 0.9954 - aux_1_accuracy: 0.9952 - aux_2_accuracy: 0.9953 - val_loss: 0.2270 - val_final_loss: 0.0715 - val_aux_1_loss: 0.0798 - val_aux_2_loss: 0.0758 - val_final_accuracy: 0.9834 - val_aux_1_accuracy: 0.9836 - val_aux_2_accuracy: 0.9833\n",
      "Epoch 47/100\n",
      "590/590 [==============================] - ETA: 0s - loss: 0.0436 - final_loss: 0.0148 - aux_1_loss: 0.0148 - aux_2_loss: 0.0139 - final_accuracy: 0.9956 - aux_1_accuracy: 0.9951 - aux_2_accuracy: 0.9956\n",
      "Epoch 47: final_accuracy did not improve from 0.99641\n",
      "590/590 [==============================] - 99s 168ms/step - loss: 0.0436 - final_loss: 0.0148 - aux_1_loss: 0.0148 - aux_2_loss: 0.0139 - final_accuracy: 0.9956 - aux_1_accuracy: 0.9951 - aux_2_accuracy: 0.9956 - val_loss: 0.2757 - val_final_loss: 0.0990 - val_aux_1_loss: 0.0901 - val_aux_2_loss: 0.0866 - val_final_accuracy: 0.9858 - val_aux_1_accuracy: 0.9855 - val_aux_2_accuracy: 0.9860\n",
      "Epoch 48/100\n",
      "589/590 [============================>.] - ETA: 0s - loss: 0.0376 - final_loss: 0.0125 - aux_1_loss: 0.0130 - aux_2_loss: 0.0121 - final_accuracy: 0.9964 - aux_1_accuracy: 0.9960 - aux_2_accuracy: 0.9965\n",
      "Epoch 48: final_accuracy did not improve from 0.99641\n",
      "590/590 [==============================] - 133s 226ms/step - loss: 0.0376 - final_loss: 0.0125 - aux_1_loss: 0.0130 - aux_2_loss: 0.0121 - final_accuracy: 0.9964 - aux_1_accuracy: 0.9960 - aux_2_accuracy: 0.9965 - val_loss: 0.2667 - val_final_loss: 0.0883 - val_aux_1_loss: 0.0932 - val_aux_2_loss: 0.0853 - val_final_accuracy: 0.9817 - val_aux_1_accuracy: 0.9810 - val_aux_2_accuracy: 0.9813\n",
      "Epoch 49/100\n",
      "589/590 [============================>.] - ETA: 0s - loss: 0.0358 - final_loss: 0.0118 - aux_1_loss: 0.0126 - aux_2_loss: 0.0114 - final_accuracy: 0.9964 - aux_1_accuracy: 0.9960 - aux_2_accuracy: 0.9965\n",
      "Epoch 49: final_accuracy did not improve from 0.99641\n",
      "590/590 [==============================] - 132s 224ms/step - loss: 0.0358 - final_loss: 0.0118 - aux_1_loss: 0.0126 - aux_2_loss: 0.0114 - final_accuracy: 0.9964 - aux_1_accuracy: 0.9960 - aux_2_accuracy: 0.9965 - val_loss: 0.2919 - val_final_loss: 0.1042 - val_aux_1_loss: 0.0909 - val_aux_2_loss: 0.0967 - val_final_accuracy: 0.9846 - val_aux_1_accuracy: 0.9841 - val_aux_2_accuracy: 0.9847\n",
      "Epoch 50/100\n",
      "590/590 [==============================] - ETA: 0s - loss: 0.0402 - final_loss: 0.0136 - aux_1_loss: 0.0137 - aux_2_loss: 0.0129 - final_accuracy: 0.9958 - aux_1_accuracy: 0.9955 - aux_2_accuracy: 0.9959\n",
      "Epoch 50: final_accuracy did not improve from 0.99641\n",
      "590/590 [==============================] - 132s 223ms/step - loss: 0.0402 - final_loss: 0.0136 - aux_1_loss: 0.0137 - aux_2_loss: 0.0129 - final_accuracy: 0.9958 - aux_1_accuracy: 0.9955 - aux_2_accuracy: 0.9959 - val_loss: 0.2888 - val_final_loss: 0.1006 - val_aux_1_loss: 0.0918 - val_aux_2_loss: 0.0964 - val_final_accuracy: 0.9841 - val_aux_1_accuracy: 0.9843 - val_aux_2_accuracy: 0.9842\n",
      "Epoch 51/100\n",
      "590/590 [==============================] - ETA: 0s - loss: 0.0462 - final_loss: 0.0175 - aux_1_loss: 0.0148 - aux_2_loss: 0.0139 - final_accuracy: 0.9956 - aux_1_accuracy: 0.9957 - aux_2_accuracy: 0.9957\n",
      "Epoch 51: final_accuracy did not improve from 0.99641\n",
      "590/590 [==============================] - 132s 224ms/step - loss: 0.0462 - final_loss: 0.0175 - aux_1_loss: 0.0148 - aux_2_loss: 0.0139 - final_accuracy: 0.9956 - aux_1_accuracy: 0.9957 - aux_2_accuracy: 0.9957 - val_loss: 0.3082 - val_final_loss: 0.1176 - val_aux_1_loss: 0.0970 - val_aux_2_loss: 0.0936 - val_final_accuracy: 0.9830 - val_aux_1_accuracy: 0.9827 - val_aux_2_accuracy: 0.9830\n",
      "Epoch 52/100\n",
      "589/590 [============================>.] - ETA: 0s - loss: 0.0327 - final_loss: 0.0108 - aux_1_loss: 0.0116 - aux_2_loss: 0.0102 - final_accuracy: 0.9968 - aux_1_accuracy: 0.9963 - aux_2_accuracy: 0.9969\n",
      "Epoch 52: final_accuracy improved from 0.99641 to 0.99674, saving model to ./cheakpoint/googleNet\\weights-0.9967.h5\n",
      "590/590 [==============================] - 131s 222ms/step - loss: 0.0328 - final_loss: 0.0109 - aux_1_loss: 0.0116 - aux_2_loss: 0.0103 - final_accuracy: 0.9967 - aux_1_accuracy: 0.9963 - aux_2_accuracy: 0.9969 - val_loss: 0.2935 - val_final_loss: 0.0917 - val_aux_1_loss: 0.1117 - val_aux_2_loss: 0.0901 - val_final_accuracy: 0.9818 - val_aux_1_accuracy: 0.9820 - val_aux_2_accuracy: 0.9820\n",
      "Epoch 53/100\n",
      "590/590 [==============================] - ETA: 0s - loss: 0.0397 - final_loss: 0.0129 - aux_1_loss: 0.0141 - aux_2_loss: 0.0127 - final_accuracy: 0.9964 - aux_1_accuracy: 0.9959 - aux_2_accuracy: 0.9964\n",
      "Epoch 53: final_accuracy did not improve from 0.99674\n",
      "590/590 [==============================] - 129s 219ms/step - loss: 0.0397 - final_loss: 0.0129 - aux_1_loss: 0.0141 - aux_2_loss: 0.0127 - final_accuracy: 0.9964 - aux_1_accuracy: 0.9959 - aux_2_accuracy: 0.9964 - val_loss: 0.2768 - val_final_loss: 0.0937 - val_aux_1_loss: 0.0977 - val_aux_2_loss: 0.0854 - val_final_accuracy: 0.9851 - val_aux_1_accuracy: 0.9852 - val_aux_2_accuracy: 0.9853\n",
      "Epoch 54/100\n",
      "589/590 [============================>.] - ETA: 0s - loss: 0.0338 - final_loss: 0.0111 - aux_1_loss: 0.0120 - aux_2_loss: 0.0107 - final_accuracy: 0.9966 - aux_1_accuracy: 0.9963 - aux_2_accuracy: 0.9964\n",
      "Epoch 54: final_accuracy did not improve from 0.99674\n",
      "590/590 [==============================] - 130s 220ms/step - loss: 0.0337 - final_loss: 0.0111 - aux_1_loss: 0.0120 - aux_2_loss: 0.0107 - final_accuracy: 0.9966 - aux_1_accuracy: 0.9963 - aux_2_accuracy: 0.9964 - val_loss: 0.3037 - val_final_loss: 0.1016 - val_aux_1_loss: 0.0983 - val_aux_2_loss: 0.1037 - val_final_accuracy: 0.9834 - val_aux_1_accuracy: 0.9818 - val_aux_2_accuracy: 0.9839\n",
      "Epoch 55/100\n",
      "590/590 [==============================] - ETA: 0s - loss: 0.0342 - final_loss: 0.0114 - aux_1_loss: 0.0117 - aux_2_loss: 0.0112 - final_accuracy: 0.9965 - aux_1_accuracy: 0.9965 - aux_2_accuracy: 0.9965\n",
      "Epoch 55: final_accuracy did not improve from 0.99674\n",
      "590/590 [==============================] - 130s 221ms/step - loss: 0.0342 - final_loss: 0.0114 - aux_1_loss: 0.0117 - aux_2_loss: 0.0112 - final_accuracy: 0.9965 - aux_1_accuracy: 0.9965 - aux_2_accuracy: 0.9965 - val_loss: 0.2959 - val_final_loss: 0.1008 - val_aux_1_loss: 0.1002 - val_aux_2_loss: 0.0948 - val_final_accuracy: 0.9834 - val_aux_1_accuracy: 0.9836 - val_aux_2_accuracy: 0.9838\n",
      "Epoch 56/100\n",
      "589/590 [============================>.] - ETA: 0s - loss: 0.0356 - final_loss: 0.0112 - aux_1_loss: 0.0136 - aux_2_loss: 0.0108 - final_accuracy: 0.9967 - aux_1_accuracy: 0.9958 - aux_2_accuracy: 0.9967\n",
      "Epoch 56: final_accuracy did not improve from 0.99674\n",
      "590/590 [==============================] - 127s 216ms/step - loss: 0.0356 - final_loss: 0.0112 - aux_1_loss: 0.0135 - aux_2_loss: 0.0108 - final_accuracy: 0.9967 - aux_1_accuracy: 0.9958 - aux_2_accuracy: 0.9967 - val_loss: 0.3276 - val_final_loss: 0.1027 - val_aux_1_loss: 0.1080 - val_aux_2_loss: 0.1169 - val_final_accuracy: 0.9830 - val_aux_1_accuracy: 0.9826 - val_aux_2_accuracy: 0.9838\n",
      "Epoch 57/100\n",
      "590/590 [==============================] - ETA: 0s - loss: 0.0402 - final_loss: 0.0134 - aux_1_loss: 0.0141 - aux_2_loss: 0.0127 - final_accuracy: 0.9959 - aux_1_accuracy: 0.9956 - aux_2_accuracy: 0.9960\n",
      "Epoch 57: final_accuracy did not improve from 0.99674\n",
      "590/590 [==============================] - 130s 220ms/step - loss: 0.0402 - final_loss: 0.0134 - aux_1_loss: 0.0141 - aux_2_loss: 0.0127 - final_accuracy: 0.9959 - aux_1_accuracy: 0.9956 - aux_2_accuracy: 0.9960 - val_loss: 0.2947 - val_final_loss: 0.0924 - val_aux_1_loss: 0.1092 - val_aux_2_loss: 0.0932 - val_final_accuracy: 0.9834 - val_aux_1_accuracy: 0.9835 - val_aux_2_accuracy: 0.9834\n",
      "Epoch 58/100\n",
      "590/590 [==============================] - ETA: 0s - loss: 0.0309 - final_loss: 0.0106 - aux_1_loss: 0.0102 - aux_2_loss: 0.0101 - final_accuracy: 0.9970 - aux_1_accuracy: 0.9968 - aux_2_accuracy: 0.9971\n",
      "Epoch 58: final_accuracy improved from 0.99674 to 0.99699, saving model to ./cheakpoint/googleNet\\weights-0.9970.h5\n",
      "590/590 [==============================] - 129s 219ms/step - loss: 0.0309 - final_loss: 0.0106 - aux_1_loss: 0.0102 - aux_2_loss: 0.0101 - final_accuracy: 0.9970 - aux_1_accuracy: 0.9968 - aux_2_accuracy: 0.9971 - val_loss: 0.2725 - val_final_loss: 0.0924 - val_aux_1_loss: 0.0959 - val_aux_2_loss: 0.0842 - val_final_accuracy: 0.9845 - val_aux_1_accuracy: 0.9836 - val_aux_2_accuracy: 0.9844\n",
      "Epoch 59/100\n",
      "589/590 [============================>.] - ETA: 0s - loss: 0.0365 - final_loss: 0.0119 - aux_1_loss: 0.0129 - aux_2_loss: 0.0116 - final_accuracy: 0.9966 - aux_1_accuracy: 0.9959 - aux_2_accuracy: 0.9967\n",
      "Epoch 59: final_accuracy did not improve from 0.99699\n",
      "590/590 [==============================] - 131s 222ms/step - loss: 0.0365 - final_loss: 0.0119 - aux_1_loss: 0.0130 - aux_2_loss: 0.0116 - final_accuracy: 0.9966 - aux_1_accuracy: 0.9959 - aux_2_accuracy: 0.9967 - val_loss: 0.3118 - val_final_loss: 0.0995 - val_aux_1_loss: 0.1123 - val_aux_2_loss: 0.0999 - val_final_accuracy: 0.9828 - val_aux_1_accuracy: 0.9834 - val_aux_2_accuracy: 0.9825\n",
      "Epoch 60/100\n",
      "590/590 [==============================] - ETA: 0s - loss: 0.0292 - final_loss: 0.0098 - aux_1_loss: 0.0093 - aux_2_loss: 0.0101 - final_accuracy: 0.9968 - aux_1_accuracy: 0.9967 - aux_2_accuracy: 0.9968\n",
      "Epoch 60: final_accuracy did not improve from 0.99699\n",
      "590/590 [==============================] - 111s 189ms/step - loss: 0.0292 - final_loss: 0.0098 - aux_1_loss: 0.0093 - aux_2_loss: 0.0101 - final_accuracy: 0.9968 - aux_1_accuracy: 0.9967 - aux_2_accuracy: 0.9968 - val_loss: 0.3230 - val_final_loss: 0.0859 - val_aux_1_loss: 0.1413 - val_aux_2_loss: 0.0959 - val_final_accuracy: 0.9856 - val_aux_1_accuracy: 0.9852 - val_aux_2_accuracy: 0.9854\n",
      "Epoch 61/100\n",
      "590/590 [==============================] - ETA: 0s - loss: 0.0272 - final_loss: 0.0088 - aux_1_loss: 0.0096 - aux_2_loss: 0.0088 - final_accuracy: 0.9972 - aux_1_accuracy: 0.9968 - aux_2_accuracy: 0.9972\n",
      "Epoch 61: final_accuracy improved from 0.99699 to 0.99722, saving model to ./cheakpoint/googleNet\\weights-0.9972.h5\n",
      "590/590 [==============================] - 39s 67ms/step - loss: 0.0272 - final_loss: 0.0088 - aux_1_loss: 0.0096 - aux_2_loss: 0.0088 - final_accuracy: 0.9972 - aux_1_accuracy: 0.9968 - aux_2_accuracy: 0.9972 - val_loss: 0.3016 - val_final_loss: 0.0952 - val_aux_1_loss: 0.1084 - val_aux_2_loss: 0.0979 - val_final_accuracy: 0.9851 - val_aux_1_accuracy: 0.9849 - val_aux_2_accuracy: 0.9853\n",
      "Epoch 62/100\n",
      "589/590 [============================>.] - ETA: 0s - loss: 0.0438 - final_loss: 0.0145 - aux_1_loss: 0.0151 - aux_2_loss: 0.0142 - final_accuracy: 0.9956 - aux_1_accuracy: 0.9953 - aux_2_accuracy: 0.9956\n",
      "Epoch 62: final_accuracy did not improve from 0.99722\n",
      "590/590 [==============================] - 42s 71ms/step - loss: 0.0438 - final_loss: 0.0145 - aux_1_loss: 0.0151 - aux_2_loss: 0.0142 - final_accuracy: 0.9956 - aux_1_accuracy: 0.9953 - aux_2_accuracy: 0.9956 - val_loss: 0.3191 - val_final_loss: 0.1102 - val_aux_1_loss: 0.1098 - val_aux_2_loss: 0.0991 - val_final_accuracy: 0.9847 - val_aux_1_accuracy: 0.9838 - val_aux_2_accuracy: 0.9845\n",
      "Epoch 63/100\n",
      "589/590 [============================>.] - ETA: 0s - loss: 0.0329 - final_loss: 0.0108 - aux_1_loss: 0.0112 - aux_2_loss: 0.0109 - final_accuracy: 0.9967 - aux_1_accuracy: 0.9964 - aux_2_accuracy: 0.9968\n",
      "Epoch 63: final_accuracy did not improve from 0.99722\n",
      "590/590 [==============================] - 38s 65ms/step - loss: 0.0329 - final_loss: 0.0108 - aux_1_loss: 0.0112 - aux_2_loss: 0.0109 - final_accuracy: 0.9967 - aux_1_accuracy: 0.9964 - aux_2_accuracy: 0.9968 - val_loss: 0.3425 - val_final_loss: 0.1208 - val_aux_1_loss: 0.1274 - val_aux_2_loss: 0.0942 - val_final_accuracy: 0.9833 - val_aux_1_accuracy: 0.9839 - val_aux_2_accuracy: 0.9837\n",
      "Epoch 64/100\n",
      "590/590 [==============================] - ETA: 0s - loss: 0.0280 - final_loss: 0.0095 - aux_1_loss: 0.0093 - aux_2_loss: 0.0091 - final_accuracy: 0.9973 - aux_1_accuracy: 0.9972 - aux_2_accuracy: 0.9972\n",
      "Epoch 64: final_accuracy improved from 0.99722 to 0.99731, saving model to ./cheakpoint/googleNet\\weights-0.9973.h5\n",
      "590/590 [==============================] - 38s 64ms/step - loss: 0.0280 - final_loss: 0.0095 - aux_1_loss: 0.0093 - aux_2_loss: 0.0091 - final_accuracy: 0.9973 - aux_1_accuracy: 0.9972 - aux_2_accuracy: 0.9972 - val_loss: 0.3382 - val_final_loss: 0.1034 - val_aux_1_loss: 0.1305 - val_aux_2_loss: 0.1042 - val_final_accuracy: 0.9826 - val_aux_1_accuracy: 0.9818 - val_aux_2_accuracy: 0.9822\n",
      "Epoch 65/100\n",
      "590/590 [==============================] - ETA: 0s - loss: 0.0381 - final_loss: 0.0128 - aux_1_loss: 0.0129 - aux_2_loss: 0.0125 - final_accuracy: 0.9963 - aux_1_accuracy: 0.9958 - aux_2_accuracy: 0.9965\n",
      "Epoch 65: final_accuracy did not improve from 0.99731\n",
      "590/590 [==============================] - 37s 63ms/step - loss: 0.0381 - final_loss: 0.0128 - aux_1_loss: 0.0129 - aux_2_loss: 0.0125 - final_accuracy: 0.9963 - aux_1_accuracy: 0.9958 - aux_2_accuracy: 0.9965 - val_loss: 0.3734 - val_final_loss: 0.1224 - val_aux_1_loss: 0.1275 - val_aux_2_loss: 0.1236 - val_final_accuracy: 0.9845 - val_aux_1_accuracy: 0.9846 - val_aux_2_accuracy: 0.9840\n",
      "Epoch 66/100\n",
      "589/590 [============================>.] - ETA: 0s - loss: 0.0245 - final_loss: 0.0078 - aux_1_loss: 0.0087 - aux_2_loss: 0.0079 - final_accuracy: 0.9975 - aux_1_accuracy: 0.9971 - aux_2_accuracy: 0.9976\n",
      "Epoch 66: final_accuracy improved from 0.99731 to 0.99753, saving model to ./cheakpoint/googleNet\\weights-0.9975.h5\n",
      "590/590 [==============================] - 38s 64ms/step - loss: 0.0245 - final_loss: 0.0079 - aux_1_loss: 0.0087 - aux_2_loss: 0.0079 - final_accuracy: 0.9975 - aux_1_accuracy: 0.9972 - aux_2_accuracy: 0.9976 - val_loss: 0.3142 - val_final_loss: 0.1017 - val_aux_1_loss: 0.1061 - val_aux_2_loss: 0.1064 - val_final_accuracy: 0.9840 - val_aux_1_accuracy: 0.9840 - val_aux_2_accuracy: 0.9850\n",
      "Epoch 67/100\n",
      "589/590 [============================>.] - ETA: 0s - loss: 0.0391 - final_loss: 0.0125 - aux_1_loss: 0.0143 - aux_2_loss: 0.0122 - final_accuracy: 0.9964 - aux_1_accuracy: 0.9958 - aux_2_accuracy: 0.9964\n",
      "Epoch 67: final_accuracy did not improve from 0.99753\n",
      "590/590 [==============================] - 37s 63ms/step - loss: 0.0390 - final_loss: 0.0125 - aux_1_loss: 0.0143 - aux_2_loss: 0.0122 - final_accuracy: 0.9964 - aux_1_accuracy: 0.9958 - aux_2_accuracy: 0.9964 - val_loss: 0.2950 - val_final_loss: 0.0897 - val_aux_1_loss: 0.1105 - val_aux_2_loss: 0.0948 - val_final_accuracy: 0.9838 - val_aux_1_accuracy: 0.9834 - val_aux_2_accuracy: 0.9842\n",
      "Epoch 68/100\n",
      "589/590 [============================>.] - ETA: 0s - loss: 0.0340 - final_loss: 0.0111 - aux_1_loss: 0.0119 - aux_2_loss: 0.0110 - final_accuracy: 0.9965 - aux_1_accuracy: 0.9962 - aux_2_accuracy: 0.9964\n",
      "Epoch 68: final_accuracy did not improve from 0.99753\n",
      "590/590 [==============================] - 37s 63ms/step - loss: 0.0340 - final_loss: 0.0111 - aux_1_loss: 0.0119 - aux_2_loss: 0.0110 - final_accuracy: 0.9965 - aux_1_accuracy: 0.9962 - aux_2_accuracy: 0.9964 - val_loss: 0.3416 - val_final_loss: 0.1202 - val_aux_1_loss: 0.0998 - val_aux_2_loss: 0.1216 - val_final_accuracy: 0.9855 - val_aux_1_accuracy: 0.9853 - val_aux_2_accuracy: 0.9858\n",
      "Epoch 69/100\n",
      "589/590 [============================>.] - ETA: 0s - loss: 0.0190 - final_loss: 0.0065 - aux_1_loss: 0.0063 - aux_2_loss: 0.0062 - final_accuracy: 0.9982 - aux_1_accuracy: 0.9979 - aux_2_accuracy: 0.9982\n",
      "Epoch 69: final_accuracy improved from 0.99753 to 0.99816, saving model to ./cheakpoint/googleNet\\weights-0.9982.h5\n",
      "590/590 [==============================] - 132s 225ms/step - loss: 0.0191 - final_loss: 0.0065 - aux_1_loss: 0.0063 - aux_2_loss: 0.0062 - final_accuracy: 0.9982 - aux_1_accuracy: 0.9979 - aux_2_accuracy: 0.9982 - val_loss: 0.2811 - val_final_loss: 0.1061 - val_aux_1_loss: 0.0926 - val_aux_2_loss: 0.0824 - val_final_accuracy: 0.9846 - val_aux_1_accuracy: 0.9852 - val_aux_2_accuracy: 0.9850\n",
      "Epoch 70/100\n",
      "590/590 [==============================] - ETA: 0s - loss: 0.0323 - final_loss: 0.0111 - aux_1_loss: 0.0107 - aux_2_loss: 0.0105 - final_accuracy: 0.9968 - aux_1_accuracy: 0.9964 - aux_2_accuracy: 0.9968\n",
      "Epoch 70: final_accuracy did not improve from 0.99816\n",
      "590/590 [==============================] - 129s 220ms/step - loss: 0.0323 - final_loss: 0.0111 - aux_1_loss: 0.0107 - aux_2_loss: 0.0105 - final_accuracy: 0.9968 - aux_1_accuracy: 0.9964 - aux_2_accuracy: 0.9968 - val_loss: 0.3072 - val_final_loss: 0.0976 - val_aux_1_loss: 0.1188 - val_aux_2_loss: 0.0908 - val_final_accuracy: 0.9847 - val_aux_1_accuracy: 0.9841 - val_aux_2_accuracy: 0.9841\n",
      "Epoch 71/100\n",
      "590/590 [==============================] - ETA: 0s - loss: 0.0377 - final_loss: 0.0133 - aux_1_loss: 0.0122 - aux_2_loss: 0.0122 - final_accuracy: 0.9962 - aux_1_accuracy: 0.9962 - aux_2_accuracy: 0.9962\n",
      "Epoch 71: final_accuracy did not improve from 0.99816\n",
      "590/590 [==============================] - 132s 224ms/step - loss: 0.0377 - final_loss: 0.0133 - aux_1_loss: 0.0122 - aux_2_loss: 0.0122 - final_accuracy: 0.9962 - aux_1_accuracy: 0.9962 - aux_2_accuracy: 0.9962 - val_loss: 0.2768 - val_final_loss: 0.0941 - val_aux_1_loss: 0.0986 - val_aux_2_loss: 0.0841 - val_final_accuracy: 0.9838 - val_aux_1_accuracy: 0.9847 - val_aux_2_accuracy: 0.9844\n",
      "Epoch 72/100\n",
      "590/590 [==============================] - ETA: 0s - loss: 0.0216 - final_loss: 0.0074 - aux_1_loss: 0.0073 - aux_2_loss: 0.0069 - final_accuracy: 0.9979 - aux_1_accuracy: 0.9976 - aux_2_accuracy: 0.9981\n",
      "Epoch 72: final_accuracy did not improve from 0.99816\n",
      "590/590 [==============================] - 131s 222ms/step - loss: 0.0216 - final_loss: 0.0074 - aux_1_loss: 0.0073 - aux_2_loss: 0.0069 - final_accuracy: 0.9979 - aux_1_accuracy: 0.9976 - aux_2_accuracy: 0.9981 - val_loss: 0.3474 - val_final_loss: 0.1151 - val_aux_1_loss: 0.1257 - val_aux_2_loss: 0.1065 - val_final_accuracy: 0.9854 - val_aux_1_accuracy: 0.9845 - val_aux_2_accuracy: 0.9856\n",
      "Epoch 73/100\n",
      "590/590 [==============================] - ETA: 0s - loss: 0.0859 - final_loss: 0.0327 - aux_1_loss: 0.0260 - aux_2_loss: 0.0272 - final_accuracy: 0.9930 - aux_1_accuracy: 0.9926 - aux_2_accuracy: 0.9929\n",
      "Epoch 73: final_accuracy did not improve from 0.99816\n",
      "590/590 [==============================] - 132s 223ms/step - loss: 0.0859 - final_loss: 0.0327 - aux_1_loss: 0.0260 - aux_2_loss: 0.0272 - final_accuracy: 0.9930 - aux_1_accuracy: 0.9926 - aux_2_accuracy: 0.9929 - val_loss: 0.2502 - val_final_loss: 0.0828 - val_aux_1_loss: 0.0887 - val_aux_2_loss: 0.0788 - val_final_accuracy: 0.9780 - val_aux_1_accuracy: 0.9788 - val_aux_2_accuracy: 0.9789\n",
      "Epoch 74/100\n",
      "590/590 [==============================] - ETA: 0s - loss: 0.0711 - final_loss: 0.0237 - aux_1_loss: 0.0243 - aux_2_loss: 0.0231 - final_accuracy: 0.9926 - aux_1_accuracy: 0.9925 - aux_2_accuracy: 0.9928\n",
      "Epoch 74: final_accuracy did not improve from 0.99816\n",
      "590/590 [==============================] - 132s 224ms/step - loss: 0.0711 - final_loss: 0.0237 - aux_1_loss: 0.0243 - aux_2_loss: 0.0231 - final_accuracy: 0.9926 - aux_1_accuracy: 0.9925 - aux_2_accuracy: 0.9928 - val_loss: 0.3191 - val_final_loss: 0.1073 - val_aux_1_loss: 0.1179 - val_aux_2_loss: 0.0939 - val_final_accuracy: 0.9843 - val_aux_1_accuracy: 0.9844 - val_aux_2_accuracy: 0.9846\n",
      "Epoch 75/100\n",
      "590/590 [==============================] - ETA: 0s - loss: 0.0466 - final_loss: 0.0162 - aux_1_loss: 0.0156 - aux_2_loss: 0.0148 - final_accuracy: 0.9955 - aux_1_accuracy: 0.9950 - aux_2_accuracy: 0.9958\n",
      "Epoch 75: final_accuracy did not improve from 0.99816\n",
      "590/590 [==============================] - 133s 226ms/step - loss: 0.0466 - final_loss: 0.0162 - aux_1_loss: 0.0156 - aux_2_loss: 0.0148 - final_accuracy: 0.9955 - aux_1_accuracy: 0.9950 - aux_2_accuracy: 0.9958 - val_loss: 0.2505 - val_final_loss: 0.0783 - val_aux_1_loss: 0.0944 - val_aux_2_loss: 0.0777 - val_final_accuracy: 0.9835 - val_aux_1_accuracy: 0.9840 - val_aux_2_accuracy: 0.9829\n",
      "Epoch 76/100\n",
      "589/590 [============================>.] - ETA: 0s - loss: 0.0195 - final_loss: 0.0061 - aux_1_loss: 0.0072 - aux_2_loss: 0.0061 - final_accuracy: 0.9979 - aux_1_accuracy: 0.9977 - aux_2_accuracy: 0.9979\n",
      "Epoch 76: final_accuracy did not improve from 0.99816\n",
      "590/590 [==============================] - 133s 226ms/step - loss: 0.0195 - final_loss: 0.0061 - aux_1_loss: 0.0072 - aux_2_loss: 0.0061 - final_accuracy: 0.9979 - aux_1_accuracy: 0.9977 - aux_2_accuracy: 0.9979 - val_loss: 0.3086 - val_final_loss: 0.0953 - val_aux_1_loss: 0.1163 - val_aux_2_loss: 0.0971 - val_final_accuracy: 0.9856 - val_aux_1_accuracy: 0.9853 - val_aux_2_accuracy: 0.9861\n",
      "Epoch 77/100\n",
      "590/590 [==============================] - ETA: 0s - loss: 0.0194 - final_loss: 0.0064 - aux_1_loss: 0.0071 - aux_2_loss: 0.0059 - final_accuracy: 0.9980 - aux_1_accuracy: 0.9977 - aux_2_accuracy: 0.9982\n",
      "Epoch 77: final_accuracy did not improve from 0.99816\n",
      "590/590 [==============================] - 133s 225ms/step - loss: 0.0194 - final_loss: 0.0064 - aux_1_loss: 0.0071 - aux_2_loss: 0.0059 - final_accuracy: 0.9980 - aux_1_accuracy: 0.9977 - aux_2_accuracy: 0.9982 - val_loss: 0.3253 - val_final_loss: 0.0996 - val_aux_1_loss: 0.1181 - val_aux_2_loss: 0.1076 - val_final_accuracy: 0.9834 - val_aux_1_accuracy: 0.9839 - val_aux_2_accuracy: 0.9834\n",
      "Epoch 78/100\n",
      "590/590 [==============================] - ETA: 0s - loss: 0.0206 - final_loss: 0.0072 - aux_1_loss: 0.0069 - aux_2_loss: 0.0065 - final_accuracy: 0.9982 - aux_1_accuracy: 0.9978 - aux_2_accuracy: 0.9980\n",
      "Epoch 78: final_accuracy improved from 0.99816 to 0.99822, saving model to ./cheakpoint/googleNet\\weights-0.9982.h5\n",
      "590/590 [==============================] - 133s 226ms/step - loss: 0.0206 - final_loss: 0.0072 - aux_1_loss: 0.0069 - aux_2_loss: 0.0065 - final_accuracy: 0.9982 - aux_1_accuracy: 0.9978 - aux_2_accuracy: 0.9980 - val_loss: 0.4518 - val_final_loss: 0.1393 - val_aux_1_loss: 0.1405 - val_aux_2_loss: 0.1720 - val_final_accuracy: 0.9852 - val_aux_1_accuracy: 0.9857 - val_aux_2_accuracy: 0.9852\n",
      "Epoch 79/100\n",
      "590/590 [==============================] - ETA: 0s - loss: 0.0363 - final_loss: 0.0123 - aux_1_loss: 0.0125 - aux_2_loss: 0.0116 - final_accuracy: 0.9963 - aux_1_accuracy: 0.9963 - aux_2_accuracy: 0.9964\n",
      "Epoch 79: final_accuracy did not improve from 0.99822\n",
      "590/590 [==============================] - 132s 224ms/step - loss: 0.0363 - final_loss: 0.0123 - aux_1_loss: 0.0125 - aux_2_loss: 0.0116 - final_accuracy: 0.9963 - aux_1_accuracy: 0.9963 - aux_2_accuracy: 0.9964 - val_loss: 0.4735 - val_final_loss: 0.1534 - val_aux_1_loss: 0.1308 - val_aux_2_loss: 0.1893 - val_final_accuracy: 0.9812 - val_aux_1_accuracy: 0.9806 - val_aux_2_accuracy: 0.9802\n",
      "Epoch 80/100\n",
      "589/590 [============================>.] - ETA: 0s - loss: 0.0332 - final_loss: 0.0114 - aux_1_loss: 0.0116 - aux_2_loss: 0.0102 - final_accuracy: 0.9968 - aux_1_accuracy: 0.9965 - aux_2_accuracy: 0.9969\n",
      "Epoch 80: final_accuracy did not improve from 0.99822\n",
      "590/590 [==============================] - 133s 226ms/step - loss: 0.0332 - final_loss: 0.0114 - aux_1_loss: 0.0116 - aux_2_loss: 0.0102 - final_accuracy: 0.9968 - aux_1_accuracy: 0.9965 - aux_2_accuracy: 0.9969 - val_loss: 0.3186 - val_final_loss: 0.1162 - val_aux_1_loss: 0.1087 - val_aux_2_loss: 0.0937 - val_final_accuracy: 0.9860 - val_aux_1_accuracy: 0.9852 - val_aux_2_accuracy: 0.9861\n",
      "Epoch 81/100\n",
      "589/590 [============================>.] - ETA: 0s - loss: 0.0287 - final_loss: 0.0096 - aux_1_loss: 0.0100 - aux_2_loss: 0.0091 - final_accuracy: 0.9973 - aux_1_accuracy: 0.9968 - aux_2_accuracy: 0.9971\n",
      "Epoch 81: final_accuracy did not improve from 0.99822\n",
      "590/590 [==============================] - 131s 223ms/step - loss: 0.0287 - final_loss: 0.0096 - aux_1_loss: 0.0100 - aux_2_loss: 0.0091 - final_accuracy: 0.9973 - aux_1_accuracy: 0.9968 - aux_2_accuracy: 0.9971 - val_loss: 0.3283 - val_final_loss: 0.1176 - val_aux_1_loss: 0.1142 - val_aux_2_loss: 0.0965 - val_final_accuracy: 0.9838 - val_aux_1_accuracy: 0.9830 - val_aux_2_accuracy: 0.9838\n",
      "Epoch 82/100\n",
      "589/590 [============================>.] - ETA: 0s - loss: 0.0319 - final_loss: 0.0107 - aux_1_loss: 0.0106 - aux_2_loss: 0.0106 - final_accuracy: 0.9970 - aux_1_accuracy: 0.9967 - aux_2_accuracy: 0.9971\n",
      "Epoch 82: final_accuracy did not improve from 0.99822\n",
      "590/590 [==============================] - 88s 144ms/step - loss: 0.0319 - final_loss: 0.0107 - aux_1_loss: 0.0106 - aux_2_loss: 0.0106 - final_accuracy: 0.9970 - aux_1_accuracy: 0.9967 - aux_2_accuracy: 0.9972 - val_loss: 0.2917 - val_final_loss: 0.0963 - val_aux_1_loss: 0.1022 - val_aux_2_loss: 0.0932 - val_final_accuracy: 0.9863 - val_aux_1_accuracy: 0.9856 - val_aux_2_accuracy: 0.9858\n",
      "Epoch 83/100\n",
      "589/590 [============================>.] - ETA: 0s - loss: 0.0308 - final_loss: 0.0103 - aux_1_loss: 0.0102 - aux_2_loss: 0.0103 - final_accuracy: 0.9973 - aux_1_accuracy: 0.9968 - aux_2_accuracy: 0.9972\n",
      "Epoch 83: final_accuracy did not improve from 0.99822\n",
      "590/590 [==============================] - 66s 112ms/step - loss: 0.0308 - final_loss: 0.0103 - aux_1_loss: 0.0102 - aux_2_loss: 0.0103 - final_accuracy: 0.9973 - aux_1_accuracy: 0.9968 - aux_2_accuracy: 0.9972 - val_loss: 0.3347 - val_final_loss: 0.1133 - val_aux_1_loss: 0.1166 - val_aux_2_loss: 0.1048 - val_final_accuracy: 0.9835 - val_aux_1_accuracy: 0.9833 - val_aux_2_accuracy: 0.9839\n",
      "Epoch 84/100\n",
      "590/590 [==============================] - ETA: 0s - loss: 0.0186 - final_loss: 0.0059 - aux_1_loss: 0.0067 - aux_2_loss: 0.0060 - final_accuracy: 0.9983 - aux_1_accuracy: 0.9980 - aux_2_accuracy: 0.9982\n",
      "Epoch 84: final_accuracy improved from 0.99822 to 0.99833, saving model to ./cheakpoint/googleNet\\weights-0.9983.h5\n",
      "590/590 [==============================] - 40s 67ms/step - loss: 0.0186 - final_loss: 0.0059 - aux_1_loss: 0.0067 - aux_2_loss: 0.0060 - final_accuracy: 0.9983 - aux_1_accuracy: 0.9980 - aux_2_accuracy: 0.9982 - val_loss: 0.3487 - val_final_loss: 0.1104 - val_aux_1_loss: 0.1225 - val_aux_2_loss: 0.1158 - val_final_accuracy: 0.9845 - val_aux_1_accuracy: 0.9843 - val_aux_2_accuracy: 0.9848\n",
      "Epoch 85/100\n",
      "589/590 [============================>.] - ETA: 0s - loss: 0.0274 - final_loss: 0.0087 - aux_1_loss: 0.0096 - aux_2_loss: 0.0090 - final_accuracy: 0.9975 - aux_1_accuracy: 0.9969 - aux_2_accuracy: 0.9976\n",
      "Epoch 85: final_accuracy did not improve from 0.99833\n",
      "590/590 [==============================] - 38s 65ms/step - loss: 0.0274 - final_loss: 0.0087 - aux_1_loss: 0.0096 - aux_2_loss: 0.0090 - final_accuracy: 0.9975 - aux_1_accuracy: 0.9970 - aux_2_accuracy: 0.9976 - val_loss: 0.3586 - val_final_loss: 0.1215 - val_aux_1_loss: 0.1120 - val_aux_2_loss: 0.1251 - val_final_accuracy: 0.9860 - val_aux_1_accuracy: 0.9853 - val_aux_2_accuracy: 0.9857\n",
      "Epoch 86/100\n",
      "590/590 [==============================] - ETA: 0s - loss: 0.0272 - final_loss: 0.0089 - aux_1_loss: 0.0090 - aux_2_loss: 0.0092 - final_accuracy: 0.9975 - aux_1_accuracy: 0.9971 - aux_2_accuracy: 0.9975\n",
      "Epoch 86: final_accuracy did not improve from 0.99833\n",
      "590/590 [==============================] - 38s 64ms/step - loss: 0.0272 - final_loss: 0.0089 - aux_1_loss: 0.0090 - aux_2_loss: 0.0092 - final_accuracy: 0.9975 - aux_1_accuracy: 0.9971 - aux_2_accuracy: 0.9975 - val_loss: 0.3333 - val_final_loss: 0.1124 - val_aux_1_loss: 0.1023 - val_aux_2_loss: 0.1186 - val_final_accuracy: 0.9829 - val_aux_1_accuracy: 0.9839 - val_aux_2_accuracy: 0.9840\n",
      "Epoch 87/100\n",
      "589/590 [============================>.] - ETA: 0s - loss: 0.0430 - final_loss: 0.0172 - aux_1_loss: 0.0128 - aux_2_loss: 0.0130 - final_accuracy: 0.9963 - aux_1_accuracy: 0.9963 - aux_2_accuracy: 0.9962\n",
      "Epoch 87: final_accuracy did not improve from 0.99833\n",
      "590/590 [==============================] - 36s 61ms/step - loss: 0.0430 - final_loss: 0.0172 - aux_1_loss: 0.0128 - aux_2_loss: 0.0130 - final_accuracy: 0.9963 - aux_1_accuracy: 0.9963 - aux_2_accuracy: 0.9962 - val_loss: 0.3019 - val_final_loss: 0.0913 - val_aux_1_loss: 0.1012 - val_aux_2_loss: 0.1094 - val_final_accuracy: 0.9823 - val_aux_1_accuracy: 0.9843 - val_aux_2_accuracy: 0.9828\n",
      "Epoch 88/100\n",
      "589/590 [============================>.] - ETA: 0s - loss: 0.0305 - final_loss: 0.0107 - aux_1_loss: 0.0099 - aux_2_loss: 0.0098 - final_accuracy: 0.9970 - aux_1_accuracy: 0.9968 - aux_2_accuracy: 0.9970\n",
      "Epoch 88: final_accuracy did not improve from 0.99833\n",
      "590/590 [==============================] - 37s 63ms/step - loss: 0.0305 - final_loss: 0.0107 - aux_1_loss: 0.0099 - aux_2_loss: 0.0098 - final_accuracy: 0.9970 - aux_1_accuracy: 0.9968 - aux_2_accuracy: 0.9970 - val_loss: 0.3451 - val_final_loss: 0.1086 - val_aux_1_loss: 0.1308 - val_aux_2_loss: 0.1057 - val_final_accuracy: 0.9854 - val_aux_1_accuracy: 0.9847 - val_aux_2_accuracy: 0.9851\n",
      "Epoch 89/100\n",
      "589/590 [============================>.] - ETA: 0s - loss: 0.0173 - final_loss: 0.0060 - aux_1_loss: 0.0058 - aux_2_loss: 0.0056 - final_accuracy: 0.9984 - aux_1_accuracy: 0.9982 - aux_2_accuracy: 0.9984\n",
      "Epoch 89: final_accuracy improved from 0.99833 to 0.99840, saving model to ./cheakpoint/googleNet\\weights-0.9984.h5\n",
      "590/590 [==============================] - 39s 65ms/step - loss: 0.0173 - final_loss: 0.0060 - aux_1_loss: 0.0058 - aux_2_loss: 0.0056 - final_accuracy: 0.9984 - aux_1_accuracy: 0.9982 - aux_2_accuracy: 0.9984 - val_loss: 0.3410 - val_final_loss: 0.1086 - val_aux_1_loss: 0.1232 - val_aux_2_loss: 0.1092 - val_final_accuracy: 0.9853 - val_aux_1_accuracy: 0.9847 - val_aux_2_accuracy: 0.9853\n",
      "Epoch 90/100\n",
      "589/590 [============================>.] - ETA: 0s - loss: 0.0303 - final_loss: 0.0104 - aux_1_loss: 0.0102 - aux_2_loss: 0.0097 - final_accuracy: 0.9974 - aux_1_accuracy: 0.9968 - aux_2_accuracy: 0.9972\n",
      "Epoch 90: final_accuracy did not improve from 0.99840\n",
      "590/590 [==============================] - 38s 65ms/step - loss: 0.0304 - final_loss: 0.0104 - aux_1_loss: 0.0103 - aux_2_loss: 0.0097 - final_accuracy: 0.9974 - aux_1_accuracy: 0.9968 - aux_2_accuracy: 0.9971 - val_loss: 0.2912 - val_final_loss: 0.0880 - val_aux_1_loss: 0.1169 - val_aux_2_loss: 0.0863 - val_final_accuracy: 0.9806 - val_aux_1_accuracy: 0.9808 - val_aux_2_accuracy: 0.9808\n",
      "Epoch 91/100\n",
      "589/590 [============================>.] - ETA: 0s - loss: 0.0318 - final_loss: 0.0101 - aux_1_loss: 0.0108 - aux_2_loss: 0.0109 - final_accuracy: 0.9973 - aux_1_accuracy: 0.9967 - aux_2_accuracy: 0.9972\n",
      "Epoch 91: final_accuracy did not improve from 0.99840\n",
      "590/590 [==============================] - 38s 64ms/step - loss: 0.0318 - final_loss: 0.0101 - aux_1_loss: 0.0108 - aux_2_loss: 0.0109 - final_accuracy: 0.9973 - aux_1_accuracy: 0.9967 - aux_2_accuracy: 0.9972 - val_loss: 0.3815 - val_final_loss: 0.1183 - val_aux_1_loss: 0.1114 - val_aux_2_loss: 0.1518 - val_final_accuracy: 0.9856 - val_aux_1_accuracy: 0.9862 - val_aux_2_accuracy: 0.9861\n",
      "Epoch 92/100\n",
      "590/590 [==============================] - ETA: 0s - loss: 0.0259 - final_loss: 0.0081 - aux_1_loss: 0.0094 - aux_2_loss: 0.0085 - final_accuracy: 0.9978 - aux_1_accuracy: 0.9976 - aux_2_accuracy: 0.9977\n",
      "Epoch 92: final_accuracy did not improve from 0.99840\n",
      "590/590 [==============================] - 38s 64ms/step - loss: 0.0259 - final_loss: 0.0081 - aux_1_loss: 0.0094 - aux_2_loss: 0.0085 - final_accuracy: 0.9978 - aux_1_accuracy: 0.9976 - aux_2_accuracy: 0.9977 - val_loss: 0.3501 - val_final_loss: 0.1202 - val_aux_1_loss: 0.1366 - val_aux_2_loss: 0.0933 - val_final_accuracy: 0.9852 - val_aux_1_accuracy: 0.9855 - val_aux_2_accuracy: 0.9851\n",
      "Epoch 93/100\n",
      "589/590 [============================>.] - ETA: 0s - loss: 0.0312 - final_loss: 0.0109 - aux_1_loss: 0.0104 - aux_2_loss: 0.0099 - final_accuracy: 0.9972 - aux_1_accuracy: 0.9969 - aux_2_accuracy: 0.9971\n",
      "Epoch 93: final_accuracy did not improve from 0.99840\n",
      "590/590 [==============================] - 38s 64ms/step - loss: 0.0312 - final_loss: 0.0109 - aux_1_loss: 0.0104 - aux_2_loss: 0.0099 - final_accuracy: 0.9972 - aux_1_accuracy: 0.9969 - aux_2_accuracy: 0.9971 - val_loss: 0.2829 - val_final_loss: 0.0875 - val_aux_1_loss: 0.1040 - val_aux_2_loss: 0.0914 - val_final_accuracy: 0.9852 - val_aux_1_accuracy: 0.9848 - val_aux_2_accuracy: 0.9857\n",
      "Epoch 94/100\n",
      "590/590 [==============================] - ETA: 0s - loss: 0.0136 - final_loss: 0.0045 - aux_1_loss: 0.0048 - aux_2_loss: 0.0043 - final_accuracy: 0.9986 - aux_1_accuracy: 0.9984 - aux_2_accuracy: 0.9986\n",
      "Epoch 94: final_accuracy improved from 0.99840 to 0.99856, saving model to ./cheakpoint/googleNet\\weights-0.9986.h5\n",
      "590/590 [==============================] - 38s 65ms/step - loss: 0.0136 - final_loss: 0.0045 - aux_1_loss: 0.0048 - aux_2_loss: 0.0043 - final_accuracy: 0.9986 - aux_1_accuracy: 0.9984 - aux_2_accuracy: 0.9986 - val_loss: 0.3517 - val_final_loss: 0.1076 - val_aux_1_loss: 0.1347 - val_aux_2_loss: 0.1094 - val_final_accuracy: 0.9863 - val_aux_1_accuracy: 0.9850 - val_aux_2_accuracy: 0.9862\n",
      "Epoch 95/100\n",
      "589/590 [============================>.] - ETA: 0s - loss: 0.0338 - final_loss: 0.0107 - aux_1_loss: 0.0123 - aux_2_loss: 0.0108 - final_accuracy: 0.9971 - aux_1_accuracy: 0.9969 - aux_2_accuracy: 0.9972\n",
      "Epoch 95: final_accuracy did not improve from 0.99856\n",
      "590/590 [==============================] - 38s 64ms/step - loss: 0.0340 - final_loss: 0.0108 - aux_1_loss: 0.0123 - aux_2_loss: 0.0109 - final_accuracy: 0.9971 - aux_1_accuracy: 0.9969 - aux_2_accuracy: 0.9971 - val_loss: 0.2800 - val_final_loss: 0.0971 - val_aux_1_loss: 0.1014 - val_aux_2_loss: 0.0816 - val_final_accuracy: 0.9840 - val_aux_1_accuracy: 0.9836 - val_aux_2_accuracy: 0.9839\n",
      "Epoch 96/100\n",
      "589/590 [============================>.] - ETA: 0s - loss: 0.0385 - final_loss: 0.0148 - aux_1_loss: 0.0124 - aux_2_loss: 0.0113 - final_accuracy: 0.9966 - aux_1_accuracy: 0.9959 - aux_2_accuracy: 0.9964\n",
      "Epoch 96: final_accuracy did not improve from 0.99856\n",
      "590/590 [==============================] - 38s 64ms/step - loss: 0.0386 - final_loss: 0.0148 - aux_1_loss: 0.0124 - aux_2_loss: 0.0113 - final_accuracy: 0.9966 - aux_1_accuracy: 0.9959 - aux_2_accuracy: 0.9964 - val_loss: 0.2991 - val_final_loss: 0.0924 - val_aux_1_loss: 0.1172 - val_aux_2_loss: 0.0895 - val_final_accuracy: 0.9838 - val_aux_1_accuracy: 0.9827 - val_aux_2_accuracy: 0.9839\n",
      "Epoch 97/100\n",
      "590/590 [==============================] - ETA: 0s - loss: 0.0357 - final_loss: 0.0120 - aux_1_loss: 0.0123 - aux_2_loss: 0.0115 - final_accuracy: 0.9968 - aux_1_accuracy: 0.9964 - aux_2_accuracy: 0.9967\n",
      "Epoch 97: final_accuracy did not improve from 0.99856\n",
      "590/590 [==============================] - 38s 64ms/step - loss: 0.0357 - final_loss: 0.0120 - aux_1_loss: 0.0123 - aux_2_loss: 0.0115 - final_accuracy: 0.9968 - aux_1_accuracy: 0.9964 - aux_2_accuracy: 0.9967 - val_loss: 0.2896 - val_final_loss: 0.0995 - val_aux_1_loss: 0.0999 - val_aux_2_loss: 0.0902 - val_final_accuracy: 0.9843 - val_aux_1_accuracy: 0.9836 - val_aux_2_accuracy: 0.9843\n",
      "Epoch 98/100\n",
      "589/590 [============================>.] - ETA: 0s - loss: 0.0140 - final_loss: 0.0047 - aux_1_loss: 0.0048 - aux_2_loss: 0.0046 - final_accuracy: 0.9988 - aux_1_accuracy: 0.9986 - aux_2_accuracy: 0.9988\n",
      "Epoch 98: final_accuracy improved from 0.99856 to 0.99877, saving model to ./cheakpoint/googleNet\\weights-0.9988.h5\n",
      "590/590 [==============================] - 38s 65ms/step - loss: 0.0140 - final_loss: 0.0047 - aux_1_loss: 0.0048 - aux_2_loss: 0.0046 - final_accuracy: 0.9988 - aux_1_accuracy: 0.9986 - aux_2_accuracy: 0.9988 - val_loss: 0.5686 - val_final_loss: 0.2162 - val_aux_1_loss: 0.1665 - val_aux_2_loss: 0.1859 - val_final_accuracy: 0.9809 - val_aux_1_accuracy: 0.9830 - val_aux_2_accuracy: 0.9809\n",
      "Epoch 99/100\n",
      "589/590 [============================>.] - ETA: 0s - loss: 0.0274 - final_loss: 0.0090 - aux_1_loss: 0.0097 - aux_2_loss: 0.0087 - final_accuracy: 0.9974 - aux_1_accuracy: 0.9969 - aux_2_accuracy: 0.9974\n",
      "Epoch 99: final_accuracy did not improve from 0.99877\n",
      "590/590 [==============================] - 38s 65ms/step - loss: 0.0274 - final_loss: 0.0090 - aux_1_loss: 0.0097 - aux_2_loss: 0.0087 - final_accuracy: 0.9974 - aux_1_accuracy: 0.9969 - aux_2_accuracy: 0.9974 - val_loss: 0.3450 - val_final_loss: 0.1155 - val_aux_1_loss: 0.1178 - val_aux_2_loss: 0.1117 - val_final_accuracy: 0.9803 - val_aux_1_accuracy: 0.9797 - val_aux_2_accuracy: 0.9804\n",
      "Epoch 100/100\n",
      "589/590 [============================>.] - ETA: 0s - loss: 0.0413 - final_loss: 0.0151 - aux_1_loss: 0.0121 - aux_2_loss: 0.0141 - final_accuracy: 0.9966 - aux_1_accuracy: 0.9964 - aux_2_accuracy: 0.9966\n",
      "Epoch 100: final_accuracy did not improve from 0.99877\n",
      "590/590 [==============================] - 38s 64ms/step - loss: 0.0413 - final_loss: 0.0151 - aux_1_loss: 0.0121 - aux_2_loss: 0.0141 - final_accuracy: 0.9966 - aux_1_accuracy: 0.9964 - aux_2_accuracy: 0.9966 - val_loss: 0.3838 - val_final_loss: 0.1286 - val_aux_1_loss: 0.1350 - val_aux_2_loss: 0.1202 - val_final_accuracy: 0.9840 - val_aux_1_accuracy: 0.9816 - val_aux_2_accuracy: 0.9825\n"
     ]
    }
   ],
   "source": [
    "callbacks = get_callbacks()\n",
    "\n",
    "models_hist = googleNet.fit( \n",
    "    X_train,\n",
    "    y_train,\n",
    "    batch_size=BATCH_SIZE,\n",
    "    epochs=100,\n",
    "    validation_data=(X_val, y_val),\n",
    "    callbacks = [callbacks]\n",
    ")"
   ]
  },
  {
   "cell_type": "markdown",
   "metadata": {},
   "source": [
    "# 결과 시각화 하기"
   ]
  },
  {
   "cell_type": "code",
   "execution_count": 26,
   "metadata": {},
   "outputs": [],
   "source": [
    "# 학습 된 모델의 학습 과정 시각화\n",
    "import matplotlib.pyplot as plt\n",
    "def plot_model__hist(hist):\n",
    "    path = './cheakpoint/lefms/' # loss, accuracy 그래프 저장할 path\n",
    "    createDirectory(path)\n",
    "\n",
    "    # loss 추이 그래프로 그려서 저장\n",
    "    plt.figure(figsize=(6,6))\n",
    "    plt.style.use(\"ggplot\")\n",
    "    plt.plot(hist.history['loss'], color='b', label=\"Training loss\")\n",
    "    plt.plot(hist.history['val_loss'], color='r', label=\"Validation loss\")\n",
    "    plt.savefig(path + 'model_loss_hist.png')\n",
    "    plt.legend()\n",
    "    plt.show()\n",
    "\n",
    "    # accuracy 추이 그래프로 그려서 저장\n",
    "    plt.figure(figsize=(6,6))\n",
    "    plt.style.use(\"ggplot\")\n",
    "    plt.plot(hist.history['final_accuracy'], color='b', label=\"Training accuracy\")\n",
    "    plt.plot(hist.history['val_final_accuracy'], color='r',label=\"Validation accuracy\")\n",
    "    plt.savefig(path + 'model_loss_hist.png')\n",
    "    plt.legend(loc = \"lower right\")\n",
    "    plt.show()"
   ]
  },
  {
   "cell_type": "code",
   "execution_count": 27,
   "metadata": {},
   "outputs": [
    {
     "data": {
      "image/png": "[encoded data removed]",
      "text/plain": [
       "<Figure size 432x432 with 1 Axes>"
      ]
     },
     "metadata": {
      "needs_background": "light"
     },
     "output_type": "display_data"
    },
    {
     "data": {
      "image/png": "[encoded data removed]",
      "text/plain": [
       "<Figure size 432x432 with 1 Axes>"
      ]
     },
     "metadata": {},
     "output_type": "display_data"
    },
    {
     "name": "stdout",
     "output_type": "stream",
     "text": [
      "384/384 [==============================] - 10s 24ms/step - loss: 0.3838 - final_loss: 0.1286 - aux_1_loss: 0.1350 - aux_2_loss: 0.1202 - final_accuracy: 0.9840 - aux_1_accuracy: 0.9816 - aux_2_accuracy: 0.9825\n",
      "[0.3838021159172058, 0.12861937284469604, 0.13500311970710754, 0.12017960846424103, 0.9840169548988342, 0.9815706014633179, 0.9825491309165955]\n"
     ]
    }
   ],
   "source": [
    "plot_model__hist(models_hist)\n",
    "loss = googleNet.evaluate(X_val, y_val)\n",
    "# print(\"multi_model의 정확도: {:5.2f}%\".format(100*loss))\n",
    "print(loss)"
   ]
  },
  {
   "cell_type": "markdown",
   "metadata": {},
   "source": [
    "# 모델 불러와서 confusion matrix 그리기"
   ]
  },
  {
   "cell_type": "code",
   "execution_count": 28,
   "metadata": {},
   "outputs": [],
   "source": [
    "tf.keras.backend.clear_session()"
   ]
  },
  {
   "cell_type": "code",
   "execution_count": 29,
   "metadata": {},
   "outputs": [],
   "source": [
    "# 모델 불러오기\n",
    "reconstructed_model = keras.models.load_model(\"./cheakpoint/googleNet/weights-0.9988.h5\")"
   ]
  },
  {
   "cell_type": "code",
   "execution_count": 30,
   "metadata": {},
   "outputs": [
    {
     "name": "stdout",
     "output_type": "stream",
     "text": [
      "778/778 [==============================] - 38s 47ms/step\n"
     ]
    }
   ],
   "source": [
    "# 예측값 얻기\n",
    "y_pred = reconstructed_model.predict(X_test)"
   ]
  },
  {
   "cell_type": "code",
   "execution_count": 31,
   "metadata": {},
   "outputs": [],
   "source": [
    "# one hat encoding 를 하나의 변수로 바꾸기\n",
    "new_y= []\n",
    "for val in y_test:\n",
    "    max = 0\n",
    "    cnt = 0\n",
    "    for idx, num in enumerate(val):\n",
    "        if max < num:\n",
    "            max = num\n",
    "            cnt = idx + 1\n",
    "    new_y.append(cnt)"
   ]
  },
  {
   "cell_type": "code",
   "execution_count": 48,
   "metadata": {},
   "outputs": [
    {
     "name": "stdout",
     "output_type": "stream",
     "text": [
      "3\n"
     ]
    }
   ],
   "source": [
    "# np.array(y_pred).shape\n",
    "print(len(y_pred))"
   ]
  },
  {
   "cell_type": "code",
   "execution_count": 50,
   "metadata": {},
   "outputs": [],
   "source": [
    "# one hat encoding 를 하나의 변수로 바꾸기\n",
    "new_y_pred = []\n",
    "for val in y_pred[-1]:\n",
    "    max = 0\n",
    "    cnt = 0\n",
    "    for idx, num in enumerate(val):\n",
    "        if max < num:\n",
    "            max = num\n",
    "            cnt = idx + 1\n",
    "    new_y_pred.append(cnt)"
   ]
  },
  {
   "cell_type": "code",
   "execution_count": 52,
   "metadata": {},
   "outputs": [
    {
     "data": {
      "text/plain": [
       "(24895,)"
      ]
     },
     "execution_count": 52,
     "metadata": {},
     "output_type": "execute_result"
    }
   ],
   "source": [
    "np.array(new_y_pred).shape"
   ]
  },
  {
   "cell_type": "code",
   "execution_count": 54,
   "metadata": {},
   "outputs": [
    {
     "name": "stdout",
     "output_type": "stream",
     "text": [
      "778/778 [==============================] - 19s 24ms/step - loss: 0.6501 - final_loss: 0.2546 - aux_1_loss: 0.1878 - aux_2_loss: 0.2078 - final_accuracy: 0.9811 - aux_1_accuracy: 0.9824 - aux_2_accuracy: 0.9808\n",
      "정답률 =  0.2545505464076996 loss= 0.6501328349113464\n"
     ]
    }
   ],
   "source": [
    "# 최종 정확도 산출\n",
    "score = reconstructed_model.evaluate(X_test, y_test, verbose=1)\n",
    "print('정답률 = ', score[1],'loss=', score[0])"
   ]
  },
  {
   "cell_type": "markdown",
   "metadata": {},
   "source": [
    "### confusion matrix 그리기"
   ]
  },
  {
   "cell_type": "code",
   "execution_count": 55,
   "metadata": {},
   "outputs": [
    {
     "name": "stdout",
     "output_type": "stream",
     "text": [
      "(24895,)\n"
     ]
    }
   ],
   "source": [
    "print(np.array(new_y_pred).shape)"
   ]
  },
  {
   "cell_type": "code",
   "execution_count": 56,
   "metadata": {},
   "outputs": [
    {
     "data": {
      "image/png": "[encoded data removed]",
      "text/plain": [
       "<Figure size 432x288 with 2 Axes>"
      ]
     },
     "metadata": {},
     "output_type": "display_data"
    }
   ],
   "source": [
    "# 개수 버전\n",
    "from sklearn.metrics import classification_report, confusion_matrix, precision_score, recall_score, f1_score\n",
    "import seaborn as sns\n",
    "\n",
    "cm2 = confusion_matrix(new_y, new_y_pred)\n",
    "sns.heatmap(cm2, annot = True, fmt = 'd', cmap= 'Reds')\n",
    "plt.xlabel('predict')\n",
    "plt.ylabel('real')\n",
    "plt.xticks([0.5, 1.5, 2.5, 3.5, 4.5], ['0 = N', '1 = S', '2 = V', '3 = F', '4 = Q'])\n",
    "plt.yticks([0.5, 1.5, 2.5, 3.5, 4.5], ['0 = N', '1 = S', '2 = V', '3 = F', '4 = Q'])\n",
    "plt.show()"
   ]
  },
  {
   "cell_type": "code",
   "execution_count": 57,
   "metadata": {},
   "outputs": [
    {
     "data": {
      "image/png": "[encoded data removed]",
      "text/plain": [
       "<Figure size 432x288 with 2 Axes>"
      ]
     },
     "metadata": {},
     "output_type": "display_data"
    }
   ],
   "source": [
    "# percentile 버전\n",
    "total = np.sum(cm2, axis=1)\n",
    "cm2_percentile = cm2/total[:,None]\n",
    "sns.heatmap(np.round(cm2_percentile,3), annot = True, cmap= 'Reds')\n",
    "plt.xlabel('predict')\n",
    "plt.ylabel('real')\n",
    "plt.xticks([0.5, 1.5, 2.5, 3.5, 4.5], ['0 = N', '1 = S', '2 = V', '3 = F', '4 = Q'])\n",
    "plt.yticks([0.5, 1.5, 2.5, 3.5, 4.5], ['0 = N', '1 = S', '2 = V', '3 = F', '4 = Q'])\n",
    "plt.show()"
   ]
  },
  {
   "cell_type": "code",
   "execution_count": 58,
   "metadata": {},
   "outputs": [
    {
     "data": {
      "text/plain": [
       "array([[19997,    36,     8,     9,     9],\n",
       "       [   84,   525,     1,     0,     0],\n",
       "       [   83,     9,  1400,    52,     9],\n",
       "       [   33,     0,     4,   145,     0],\n",
       "       [  109,     5,    27,     1,  2349]], dtype=int64)"
      ]
     },
     "execution_count": 58,
     "metadata": {},
     "output_type": "execute_result"
    }
   ],
   "source": [
    "from sklearn.metrics import confusion_matrix\n",
    "confusion_matrix(new_y, new_y_pred)"
   ]
  },
  {
   "cell_type": "code",
   "execution_count": 59,
   "metadata": {},
   "outputs": [
    {
     "name": "stdout",
     "output_type": "stream",
     "text": [
      "              precision    recall  f1-score   support\n",
      "\n",
      "       0 = N       0.98      1.00      0.99     20059\n",
      "       1 = S       0.91      0.86      0.89       610\n",
      "       2 = V       0.97      0.90      0.94      1553\n",
      "       3 = F       0.70      0.80      0.75       182\n",
      "       4 = Q       0.99      0.94      0.97      2491\n",
      "\n",
      "    accuracy                           0.98     24895\n",
      "   macro avg       0.91      0.90      0.90     24895\n",
      "weighted avg       0.98      0.98      0.98     24895\n",
      "\n"
     ]
    }
   ],
   "source": [
    "# classification_report 그리기\n",
    "from sklearn.metrics import classification_report\n",
    "target_names = ['0 = N', '1 = S', '2 = V', '3 = F', '4 = Q']\n",
    "print(classification_report(new_y, new_y_pred, target_names=target_names))"
   ]
  },
  {
   "cell_type": "code",
   "execution_count": null,
   "metadata": {},
   "outputs": [],
   "source": []
  }
 ],
 "metadata": {
  "kernelspec": {
   "display_name": "Python 3.9.13 ('gpu-tf')",
   "language": "python",
   "name": "python3"
  },
  "language_info": {
   "codemirror_mode": {
    "name": "ipython",
    "version": 3
   },
   "file_extension": ".py",
   "mimetype": "text/x-python",
   "name": "python",
   "nbconvert_exporter": "python",
   "pygments_lexer": "ipython3",
   "version": "3.9.13"
  },
  "orig_nbformat": 4,
  "vscode": {
   "interpreter": {
    "hash": "8f2ebc1b1865a26aaddfec20fe081a030ec8f24eea6acc3ab57dec62885edc43"
   }
  }
 },
 "nbformat": 4,
 "nbformat_minor": 2
}
