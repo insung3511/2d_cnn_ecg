{
 "cells": [
  {
   "cell_type": "code",
   "execution_count": 1,
   "metadata": {},
   "outputs": [
    {
     "name": "stdout",
     "output_type": "stream",
     "text": [
      "[name: \"/device:CPU:0\"\n",
      "device_type: \"CPU\"\n",
      "memory_limit: 268435456\n",
      "locality {\n",
      "}\n",
      "incarnation: 11284915936246339391\n",
      "xla_global_id: -1\n",
      ", name: \"/device:GPU:0\"\n",
      "device_type: \"GPU\"\n",
      "memory_limit: 14286848000\n",
      "locality {\n",
      "  bus_id: 1\n",
      "  links {\n",
      "  }\n",
      "}\n",
      "incarnation: 15586594223718701788\n",
      "physical_device_desc: \"device: 0, name: NVIDIA GeForce RTX 3080 Laptop GPU, pci bus id: 0000:01:00.0, compute capability: 8.6\"\n",
      "xla_global_id: 416903419\n",
      "]\n"
     ]
    }
   ],
   "source": [
    "from tensorflow.python.client import device_lib \n",
    "import tensorflow as tf \n",
    "import os\n",
    "\n",
    "os.environ[\"CUDA_DEVICE_ORDER\"]= \"PCI_BUS_ID\"\n",
    "os.environ[\"CUDA_VISIBLE_DEVICES\"] = \"0\" # gpu idx\n",
    "\n",
    "with tf.device('/device:GPU:1'):\n",
    "    print(device_lib.list_local_devices())"
   ]
  },
  {
   "cell_type": "code",
   "execution_count": 2,
   "metadata": {},
   "outputs": [],
   "source": [
    "import matplotlib.pyplot as plt\n",
    "from tqdm import tqdm\n",
    "import seaborn as sns\n",
    "from scipy import io\n",
    "import numpy as np\n",
    "import itertools\n",
    "import pathlib\n",
    "import cv2\n",
    "import os\n",
    "\n",
    "from sklearn.metrics import confusion_matrix, classification_report\n",
    "from sklearn.model_selection import train_test_split\n",
    "from sklearn.preprocessing import LabelEncoder\n",
    "\n",
    "from keras.callbacks import EarlyStopping, ModelCheckpoint\n",
    "from tensorflow.keras.utils import to_categorical\n",
    "from tensorflow.keras.utils import plot_model\n",
    "from tensorflow.keras import layers\n",
    "from tensorflow import keras\n",
    "import tensorflow as tf\n",
    "\n",
    "EPOCH = 100\n",
    "KERNEL_SIZE = 3\n",
    "BATCH_SIZE = 10\n",
    "IMAGE_HEIGHT = 256\n",
    "IMAGE_WIDTH = 256\n",
    "\n",
    "DATA_PATH = \"./graph_data/\"\n",
    "\n",
    "def list_to_list(input_list):\n",
    "    input_list_to_list = list(itertools.chain(*input_list))\n",
    "    return input_list_to_list\n",
    "\n",
    "def createDirectory(directory):\n",
    "    try:\n",
    "        if not os.path.exists(directory):\n",
    "            os.makedirs(directory)\n",
    "    except OSError:\n",
    "        print(\"Error: Failed to create the directory.\")"
   ]
  },
  {
   "cell_type": "code",
   "execution_count": 3,
   "metadata": {},
   "outputs": [
    {
     "name": "stdout",
     "output_type": "stream",
     "text": [
      "graph_data\n",
      "112599\n"
     ]
    }
   ],
   "source": [
    "data_dir = pathlib.Path(DATA_PATH)\n",
    "print(data_dir)\n",
    "\n",
    "image_count = len(list(data_dir.glob('*/*.png')))\n",
    "print(image_count)\n",
    "\n",
    "f = list(data_dir.glob('F/*'))\n",
    "n = list(data_dir.glob('N/*'))\n",
    "q = list(data_dir.glob('Q/*'))\n",
    "s = list(data_dir.glob('S/*'))\n",
    "v = list(data_dir.glob('V/*'))"
   ]
  },
  {
   "cell_type": "code",
   "execution_count": 4,
   "metadata": {},
   "outputs": [
    {
     "name": "stdout",
     "output_type": "stream",
     "text": [
      "[INFO] Current path : ./graph_data/F\n"
     ]
    },
    {
     "name": "stderr",
     "output_type": "stream",
     "text": [
      "100%|██████████| 803/803 [00:05<00:00, 134.27it/s]\n"
     ]
    },
    {
     "name": "stdout",
     "output_type": "stream",
     "text": [
      "[INFO] Current path : ./graph_data/N\n"
     ]
    },
    {
     "name": "stderr",
     "output_type": "stream",
     "text": [
      "100%|██████████| 90631/90631 [10:35<00:00, 142.62it/s]\n"
     ]
    },
    {
     "name": "stdout",
     "output_type": "stream",
     "text": [
      "[INFO] Current path : ./graph_data/Q\n"
     ]
    },
    {
     "name": "stderr",
     "output_type": "stream",
     "text": [
      "100%|██████████| 11148/11148 [01:18<00:00, 141.30it/s]\n"
     ]
    },
    {
     "name": "stdout",
     "output_type": "stream",
     "text": [
      "[INFO] Current path : ./graph_data/S\n"
     ]
    },
    {
     "name": "stderr",
     "output_type": "stream",
     "text": [
      "100%|██████████| 2781/2781 [00:21<00:00, 130.88it/s]\n"
     ]
    },
    {
     "name": "stdout",
     "output_type": "stream",
     "text": [
      "[INFO] Current path : ./graph_data/V\n"
     ]
    },
    {
     "name": "stderr",
     "output_type": "stream",
     "text": [
      "100%|██████████| 7236/7236 [00:56<00:00, 127.26it/s]\n"
     ]
    }
   ],
   "source": [
    "parents_path = DATA_PATH\n",
    "child_path = os.listdir(parents_path)\n",
    "\n",
    "npy_check_list = []\n",
    "\n",
    "temp_converted_img = list()\n",
    "temp_ann_list = list()\n",
    "X = list()\n",
    "y = list()\n",
    "\n",
    "for pic_path in (child_path):\n",
    "    current_path = os.listdir(parents_path + pic_path)\n",
    "    print(\"[INFO] Current path : \" + parents_path + pic_path)\n",
    "    for file_name in tqdm(current_path):\n",
    "        path_for_array = parents_path + pic_path + \"/\" + file_name\n",
    "\n",
    "        img = cv2.imread(path_for_array)\n",
    "        img = cv2.cvtColor(img, cv2.COLOR_BGR2GRAY)\n",
    "        img_resize = cv2.resize(img, dsize=(128, 128), interpolation=cv2.INTER_AREA)\n",
    "        temp_converted_img.append(img_resize / 255.0)\n",
    "        \n",
    "        check_ann = pic_path\n",
    "        \n",
    "        if check_ann == \"N\":            # Normal\n",
    "            temp_ann_list.append([1, 0, 0, 0, 0])\n",
    "        \n",
    "        elif check_ann == \"S\":          # Supra-ventricular\n",
    "            temp_ann_list.append([0, 1, 0, 0, 0])\n",
    "        \n",
    "        elif check_ann == \"V\":          # Ventricular\n",
    "            temp_ann_list.append([0, 0, 1, 0, 0])\n",
    "        \n",
    "        elif check_ann == \"F\":          # False alarm\n",
    "            temp_ann_list.append([0, 0, 0, 1, 0])\n",
    "        \n",
    "        else:                           # Unclassed \n",
    "            temp_ann_list.append([0, 0, 0, 0, 1])\n",
    "    \n",
    "        y.append(temp_ann_list)"
   ]
  },
  {
   "cell_type": "code",
   "execution_count": 5,
   "metadata": {},
   "outputs": [
    {
     "name": "stdout",
     "output_type": "stream",
     "text": [
      "[SIZE]\t\tX_train lenght : (75441, 128, 128)\n",
      "\t\ty_train length : (75441, 5)\n",
      "[SIZE]\t\tX_validation length : (12263, 128, 128)\n",
      "\t\ty_validation length : (12263, 5)\n",
      "[SIZE]\t\tX_test length : (24895, 128, 128)\n",
      "\t\ty_test length : (24895, 5)\n"
     ]
    }
   ],
   "source": [
    "onehot_y = np.array(temp_ann_list)\n",
    "temp_converted_img = np.array(temp_converted_img)\n",
    "\n",
    "X_train, X_test, y_train, y_test = train_test_split(temp_converted_img, onehot_y, test_size=0.33, random_state=42, shuffle=True)\n",
    "X_test, X_val, y_test, y_val = train_test_split(X_test, y_test, test_size=0.33, random_state=42, shuffle=True)\n",
    "\n",
    "print(\"[SIZE]\\t\\tX_train lenght : {}\\n\\t\\ty_train length : {}\".format(X_train.shape, y_train.shape))\n",
    "print(\"[SIZE]\\t\\tX_validation length : {}\\n\\t\\ty_validation length : {}\".format(X_val.shape, y_val.shape))\n",
    "print(\"[SIZE]\\t\\tX_test length : {}\\n\\t\\ty_test length : {}\".format(X_test.shape, y_test.shape))"
   ]
  },
  {
   "cell_type": "code",
   "execution_count": 6,
   "metadata": {},
   "outputs": [
    {
     "data": {
      "image/png": "[encoded data removed]",
      "text/plain": [
       "<Figure size 2160x864 with 16 Axes>"
      ]
     },
     "metadata": {
      "needs_background": "light"
     },
     "output_type": "display_data"
    }
   ],
   "source": [
    "# 랜덤으로 뽑아서 뿌려보기\n",
    "\n",
    "import matplotlib.pyplot as plt\n",
    "import random\n",
    "%matplotlib inline\n",
    "\n",
    "plt.figure(figsize=(30, 12))\n",
    "plt.suptitle(\"random pal, per PAL\", fontsize=18)\n",
    "n = 0\n",
    "random.seed(11)\n",
    "for i in random.sample(range(6480), 16):\n",
    "    ax = plt.subplot(5, 5, n+1)\n",
    "    plt.imshow(temp_converted_img[i] * 255.0, interpolation='nearest')\n",
    "    ax.set_title(str(onehot_y[i]))\n",
    "    n+=1"
   ]
  },
  {
   "cell_type": "markdown",
   "metadata": {},
   "source": [
    "# 대망의 덴스-넷"
   ]
  },
  {
   "cell_type": "code",
   "execution_count": 7,
   "metadata": {},
   "outputs": [],
   "source": [
    "# hyperparameter\n",
    "growth_k = 32\n",
    "nb_block = 2\n",
    "init_learning_rate = 1e-4\n",
    "epsilon = 1e-8\n",
    "DROPOUT_RATE = 0.2\n",
    "\n",
    "# momentum optimizer\n",
    "nesterov_momentum = 0.9\n",
    "weight_decay = 1e-4\n",
    "\n",
    "#Label, batch_size\n",
    "calss_num = 5\n",
    "batch_size = 50\n",
    "\n",
    "total_epochs = 100"
   ]
  },
  {
   "cell_type": "code",
   "execution_count": 8,
   "metadata": {},
   "outputs": [],
   "source": [
    "\n",
    "# bottleneck\n",
    "def bottleneck_layer(inputs, growth_k=32):\n",
    "    x = layers.BatchNormalization()(inputs)\n",
    "    x = layers.Activation('relu')(x)\n",
    "    x = layers.Conv2D(4 * growth_k, kernel_size=(1, 1))(x)\n",
    "    x = layers.Dropout(DROPOUT_RATE)(x)\n",
    "        \n",
    "    x = layers.BatchNormalization()(x)\n",
    "    x = layers.Activation('relu')(x)\n",
    "    x = layers.Conv2D(growth_k, kernel_size=(3, 3), padding='same')(x)\n",
    "    x = layers.Dropout(DROPOUT_RATE)(x)\n",
    "        \n",
    "    return x\n",
    "\n",
    "# transition\n",
    "def transition_layer(inputs, growth_k=32):\n",
    "    x = layers.BatchNormalization()(inputs)\n",
    "    x = layers.Activation('relu')(x)\n",
    "    x = layers.Conv2D(growth_k, kernel_size=(1, 1))(x)\n",
    "    \n",
    "    in_channel = x.shape[-1]\n",
    "    \n",
    "    x = layers.Conv2D(in_channel * 0.5, kernel_size=(1, 1))(x)\n",
    "    x = layers.Dropout(DROPOUT_RATE)(x)\n",
    "    x = layers.AveragePooling2D(pool_size=(2, 2), strides=2, padding='same')(x)\n",
    "    \n",
    "    return x\n",
    "\n",
    "# dense_block\n",
    "def dense_block(inputs, nb_layers):\n",
    "    layers_concat=[]\n",
    "    layers_concat.append(inputs)\n",
    "    \n",
    "    x = bottleneck_layer(inputs)\n",
    "    \n",
    "    layers_concat.append(x)\n",
    "    \n",
    "    for i in range(nb_layers - 1):\n",
    "        x = layers.Concatenate(axis=3)(layers_concat)\n",
    "        x = bottleneck_layer(x)\n",
    "        layers_concat.append(x)\n",
    "    \n",
    "    x = layers.Concatenate(axis=3)(layers_concat)\n",
    "    \n",
    "    return x\n",
    "\n",
    "# classification_layer\n",
    "def classify_layer(inputs):\n",
    "    x = layers.BatchNormalization()(inputs)\n",
    "    x = layers.Activation('relu')(x)\n",
    "    x = layers.GlobalAveragePooling2D()(x)\n",
    "    x = layers.Flatten()(x)\n",
    "    output_layer = layers.Dense(5, activation='softmax')(x)\n",
    "    \n",
    "    return output_layer\n",
    "\n",
    "# input_layer 정의\n",
    "input_layer = layers.Input(shape=(128, 128, 1))\n",
    "\n",
    "# DenseNet 완성!\n",
    "def Dense_net():\n",
    "    growth_k = 32\n",
    "    x = layers.Conv2D(2*growth_k, kernel_size=(7, 7), strides=2)(input_layer)\n",
    "    x = layers.MaxPooling2D(pool_size=(3, 3), strides=2)(x)\n",
    "    \n",
    "    for i in range(nb_block):\n",
    "        x = dense_block(x, 6)\n",
    "        x = transition_layer(x)\n",
    "        x = dense_block(x, 12)\n",
    "        x = transition_layer(x)  \n",
    "        x = dense_block(x, 64)\n",
    "        x = transition_layer(x)\n",
    "        \n",
    "    x = dense_block(inputs=x, nb_layers=32)\n",
    "    output_layer = classify_layer(x)\n",
    "    \n",
    "    return output_layer"
   ]
  },
  {
   "cell_type": "code",
   "execution_count": 9,
   "metadata": {},
   "outputs": [],
   "source": [
    "denseNet = tf.keras.models.Model(input_layer, Dense_net())"
   ]
  },
  {
   "cell_type": "code",
   "execution_count": 10,
   "metadata": {},
   "outputs": [],
   "source": [
    "# denseNet.summary()"
   ]
  },
  {
   "cell_type": "code",
   "execution_count": 11,
   "metadata": {},
   "outputs": [],
   "source": [
    "# from tensorflow.keras.utils import plot_model\n",
    "\n",
    "# plot_model(denseNet, to_file='model.png')\n",
    "# plot_model(denseNet, to_file='model_shape.png', show_shapes=True)"
   ]
  },
  {
   "cell_type": "code",
   "execution_count": 12,
   "metadata": {},
   "outputs": [],
   "source": [
    "opt = tf.keras.optimizers.Adam(learning_rate=0.001)\n",
    "denseNet.compile(loss='categorical_crossentropy',\n",
    "              optimizer=opt,\n",
    "              metrics=['accuracy'])"
   ]
  },
  {
   "cell_type": "code",
   "execution_count": 13,
   "metadata": {},
   "outputs": [
    {
     "name": "stdout",
     "output_type": "stream",
     "text": [
      "Epoch 1/100\n",
      "7545/7545 [==============================] - ETA: 0s - loss: 0.7428 - accuracy: 0.7988\n",
      "Epoch 1: val_accuracy improved from -inf to 0.80616, saving model to ./checkpoint/denseNet\\\n"
     ]
    },
    {
     "name": "stderr",
     "output_type": "stream",
     "text": [
      "WARNING:absl:Found untraced functions such as _jit_compiled_convolution_op, _jit_compiled_convolution_op, _jit_compiled_convolution_op, _jit_compiled_convolution_op, _jit_compiled_convolution_op while saving (showing 5 of 405). These functions will not be directly callable after loading.\n"
     ]
    },
    {
     "name": "stdout",
     "output_type": "stream",
     "text": [
      "INFO:tensorflow:Assets written to: ./checkpoint/denseNet\\assets\n"
     ]
    },
    {
     "name": "stderr",
     "output_type": "stream",
     "text": [
      "INFO:tensorflow:Assets written to: ./checkpoint/denseNet\\assets\n"
     ]
    },
    {
     "name": "stdout",
     "output_type": "stream",
     "text": [
      "7545/7545 [==============================] - 3092s 402ms/step - loss: 0.7428 - accuracy: 0.7988 - val_loss: nan - val_accuracy: 0.8062\n",
      "Epoch 2/100\n",
      "7545/7545 [==============================] - ETA: 0s - loss: 0.6678 - accuracy: 0.8059\n",
      "Epoch 2: val_accuracy did not improve from 0.80616\n",
      "7545/7545 [==============================] - 2717s 360ms/step - loss: 0.6678 - accuracy: 0.8059 - val_loss: nan - val_accuracy: 0.8062\n",
      "Epoch 3/100\n",
      "7545/7545 [==============================] - ETA: 0s - loss: 0.6357 - accuracy: 0.8079\n",
      "Epoch 3: val_accuracy did not improve from 0.80616\n",
      "7545/7545 [==============================] - 2723s 361ms/step - loss: 0.6357 - accuracy: 0.8079 - val_loss: nan - val_accuracy: 0.8062\n",
      "Epoch 4/100\n",
      "7545/7545 [==============================] - ETA: 0s - loss: 0.4790 - accuracy: 0.8475\n",
      "Epoch 4: val_accuracy did not improve from 0.80616\n",
      "7545/7545 [==============================] - 2659s 352ms/step - loss: 0.4790 - accuracy: 0.8475 - val_loss: nan - val_accuracy: 0.8062\n",
      "Epoch 5/100\n",
      "7545/7545 [==============================] - ETA: 0s - loss: 0.3902 - accuracy: 0.8751\n",
      "Epoch 5: val_accuracy did not improve from 0.80616\n",
      "7545/7545 [==============================] - 2804s 372ms/step - loss: 0.3902 - accuracy: 0.8751 - val_loss: nan - val_accuracy: 0.8062\n",
      "Epoch 6/100\n",
      "7545/7545 [==============================] - ETA: 0s - loss: 0.3497 - accuracy: 0.8915\n",
      "Epoch 6: val_accuracy did not improve from 0.80616\n",
      "7545/7545 [==============================] - 2768s 367ms/step - loss: 0.3497 - accuracy: 0.8915 - val_loss: nan - val_accuracy: 0.8062\n",
      "Epoch 7/100\n",
      "7545/7545 [==============================] - ETA: 0s - loss: 0.3352 - accuracy: 0.9002\n",
      "Epoch 7: val_accuracy did not improve from 0.80616\n",
      "7545/7545 [==============================] - 2795s 370ms/step - loss: 0.3352 - accuracy: 0.9002 - val_loss: nan - val_accuracy: 0.8062\n",
      "Epoch 8/100\n",
      "7545/7545 [==============================] - ETA: 0s - loss: 0.3133 - accuracy: 0.9106\n",
      "Epoch 8: val_accuracy did not improve from 0.80616\n",
      "7545/7545 [==============================] - 2840s 376ms/step - loss: 0.3133 - accuracy: 0.9106 - val_loss: nan - val_accuracy: 0.8062\n",
      "Epoch 9/100\n",
      "7545/7545 [==============================] - ETA: 0s - loss: 0.3151 - accuracy: 0.9114\n",
      "Epoch 9: val_accuracy did not improve from 0.80616\n",
      "7545/7545 [==============================] - 2857s 379ms/step - loss: 0.3151 - accuracy: 0.9114 - val_loss: nan - val_accuracy: 0.8062\n",
      "Epoch 10/100\n",
      "7545/7545 [==============================] - ETA: 0s - loss: 0.2856 - accuracy: 0.9213\n",
      "Epoch 10: val_accuracy did not improve from 0.80616\n",
      "7545/7545 [==============================] - 2850s 378ms/step - loss: 0.2856 - accuracy: 0.9213 - val_loss: nan - val_accuracy: 0.8062\n",
      "Epoch 11/100\n",
      "7545/7545 [==============================] - ETA: 0s - loss: 0.2678 - accuracy: 0.9263\n",
      "Epoch 11: val_accuracy did not improve from 0.80616\n",
      "7545/7545 [==============================] - 2849s 378ms/step - loss: 0.2678 - accuracy: 0.9263 - val_loss: nan - val_accuracy: 0.8062\n",
      "Epoch 12/100\n",
      "7545/7545 [==============================] - ETA: 0s - loss: 0.2538 - accuracy: 0.9308\n",
      "Epoch 12: val_accuracy did not improve from 0.80616\n",
      "7545/7545 [==============================] - 2861s 379ms/step - loss: 0.2538 - accuracy: 0.9308 - val_loss: nan - val_accuracy: 0.8062\n",
      "Epoch 13/100\n",
      "7545/7545 [==============================] - ETA: 0s - loss: 0.2983 - accuracy: 0.9189\n",
      "Epoch 13: val_accuracy did not improve from 0.80616\n",
      "7545/7545 [==============================] - 2877s 381ms/step - loss: 0.2983 - accuracy: 0.9189 - val_loss: nan - val_accuracy: 0.8062\n",
      "Epoch 14/100\n",
      "7545/7545 [==============================] - ETA: 0s - loss: 0.2645 - accuracy: 0.9292\n",
      "Epoch 14: val_accuracy did not improve from 0.80616\n",
      "7545/7545 [==============================] - 2878s 381ms/step - loss: 0.2645 - accuracy: 0.9292 - val_loss: nan - val_accuracy: 0.8062\n",
      "Epoch 15/100\n",
      "7545/7545 [==============================] - ETA: 0s - loss: 0.2946 - accuracy: 0.9207\n",
      "Epoch 15: val_accuracy did not improve from 0.80616\n",
      "7545/7545 [==============================] - 2884s 382ms/step - loss: 0.2946 - accuracy: 0.9207 - val_loss: nan - val_accuracy: 0.8062\n",
      "Epoch 16/100\n",
      "7545/7545 [==============================] - ETA: 0s - loss: 0.2987 - accuracy: 0.9222\n",
      "Epoch 16: val_accuracy did not improve from 0.80616\n",
      "7545/7545 [==============================] - 2924s 388ms/step - loss: 0.2987 - accuracy: 0.9222 - val_loss: nan - val_accuracy: 0.8062\n",
      "Epoch 17/100\n",
      "7545/7545 [==============================] - ETA: 0s - loss: 0.2324 - accuracy: 0.9397\n",
      "Epoch 17: val_accuracy did not improve from 0.80616\n",
      "7545/7545 [==============================] - 2866s 380ms/step - loss: 0.2324 - accuracy: 0.9397 - val_loss: nan - val_accuracy: 0.8062\n",
      "Epoch 18/100\n",
      "7545/7545 [==============================] - ETA: 0s - loss: 0.2423 - accuracy: 0.9349\n",
      "Epoch 18: val_accuracy did not improve from 0.80616\n",
      "7545/7545 [==============================] - 2865s 380ms/step - loss: 0.2423 - accuracy: 0.9349 - val_loss: nan - val_accuracy: 0.8062\n",
      "Epoch 19/100\n",
      "7545/7545 [==============================] - ETA: 0s - loss: 0.2120 - accuracy: 0.9438\n",
      "Epoch 19: val_accuracy did not improve from 0.80616\n",
      "7545/7545 [==============================] - 2840s 376ms/step - loss: 0.2120 - accuracy: 0.9438 - val_loss: nan - val_accuracy: 0.8062\n",
      "Epoch 20/100\n",
      "7545/7545 [==============================] - ETA: 0s - loss: 0.3376 - accuracy: 0.9028\n",
      "Epoch 20: val_accuracy did not improve from 0.80616\n",
      "7545/7545 [==============================] - 2839s 376ms/step - loss: 0.3376 - accuracy: 0.9028 - val_loss: nan - val_accuracy: 0.8062\n",
      "Epoch 21/100\n",
      "7545/7545 [==============================] - ETA: 0s - loss: 0.2330 - accuracy: 0.9377\n",
      "Epoch 21: val_accuracy did not improve from 0.80616\n",
      "7545/7545 [==============================] - 2821s 374ms/step - loss: 0.2330 - accuracy: 0.9377 - val_loss: nan - val_accuracy: 0.8062\n",
      "Epoch 22/100\n",
      "7545/7545 [==============================] - ETA: 0s - loss: 0.2093 - accuracy: 0.9439\n",
      "Epoch 22: val_accuracy did not improve from 0.80616\n",
      "7545/7545 [==============================] - 2883s 382ms/step - loss: 0.2093 - accuracy: 0.9439 - val_loss: nan - val_accuracy: 0.8062\n",
      "Epoch 23/100\n",
      "7545/7545 [==============================] - ETA: 0s - loss: 0.2107 - accuracy: 0.9455\n",
      "Epoch 23: val_accuracy did not improve from 0.80616\n",
      "7545/7545 [==============================] - 2871s 381ms/step - loss: 0.2107 - accuracy: 0.9455 - val_loss: nan - val_accuracy: 0.8062\n",
      "Epoch 24/100\n",
      "7545/7545 [==============================] - ETA: 0s - loss: 0.2002 - accuracy: 0.9490\n",
      "Epoch 24: val_accuracy did not improve from 0.80616\n",
      "7545/7545 [==============================] - 2898s 384ms/step - loss: 0.2002 - accuracy: 0.9490 - val_loss: nan - val_accuracy: 0.8062\n",
      "Epoch 25/100\n",
      "7545/7545 [==============================] - ETA: 0s - loss: 0.1965 - accuracy: 0.9494\n",
      "Epoch 25: val_accuracy did not improve from 0.80616\n",
      "7545/7545 [==============================] - 2865s 380ms/step - loss: 0.1965 - accuracy: 0.9494 - val_loss: nan - val_accuracy: 0.8062\n",
      "Epoch 26/100\n",
      "7545/7545 [==============================] - ETA: 0s - loss: 0.1992 - accuracy: 0.9484\n",
      "Epoch 26: val_accuracy did not improve from 0.80616\n",
      "7545/7545 [==============================] - 2784s 369ms/step - loss: 0.1992 - accuracy: 0.9484 - val_loss: nan - val_accuracy: 0.8062\n",
      "Epoch 27/100\n",
      "7545/7545 [==============================] - ETA: 0s - loss: 0.1800 - accuracy: 0.9538\n",
      "Epoch 27: val_accuracy did not improve from 0.80616\n",
      "7545/7545 [==============================] - 2855s 378ms/step - loss: 0.1800 - accuracy: 0.9538 - val_loss: nan - val_accuracy: 0.8062\n",
      "Epoch 28/100\n",
      "7545/7545 [==============================] - ETA: 0s - loss: 0.1957 - accuracy: 0.9499\n",
      "Epoch 28: val_accuracy did not improve from 0.80616\n",
      "7545/7545 [==============================] - 2874s 381ms/step - loss: 0.1957 - accuracy: 0.9499 - val_loss: nan - val_accuracy: 0.8062\n",
      "Epoch 29/100\n",
      "7545/7545 [==============================] - ETA: 0s - loss: 0.2227 - accuracy: 0.9427\n",
      "Epoch 29: val_accuracy did not improve from 0.80616\n",
      "7545/7545 [==============================] - 2903s 385ms/step - loss: 0.2227 - accuracy: 0.9427 - val_loss: nan - val_accuracy: 0.8062\n",
      "Epoch 30/100\n",
      "7545/7545 [==============================] - ETA: 0s - loss: 0.1762 - accuracy: 0.9541\n",
      "Epoch 30: val_accuracy did not improve from 0.80616\n",
      "7545/7545 [==============================] - 2858s 379ms/step - loss: 0.1762 - accuracy: 0.9541 - val_loss: nan - val_accuracy: 0.8062\n",
      "Epoch 31/100\n",
      "4537/7545 [=================>............] - ETA: 18:10 - loss: 0.1798 - accuracy: 0.9529"
     ]
    },
    {
     "ename": "",
     "evalue": "",
     "output_type": "error",
     "traceback": [
      "\u001b[1;31mCanceled future for execute_request message before replies were done"
     ]
    },
    {
     "ename": "",
     "evalue": "",
     "output_type": "error",
     "traceback": [
      "\u001b[1;31mThe Kernel crashed while executing code in the the current cell or a previous cell. Please review the code in the cell(s) to identify a possible cause of the failure. Click <a href='https://aka.ms/vscodeJupyterKernelCrash'>here</a> for more info. View Jupyter <a href='command:jupyter.viewOutput'>log</a> for further details."
     ]
    }
   ],
   "source": [
    "callbacks = [ModelCheckpoint(filepath = \"./checkpoint/denseNet/\",\n",
    "                             monitor = 'val_accuracy',\n",
    "                             save_best_only = True,\n",
    "                             save_weights_only = False,\n",
    "                             mode = 'max',\n",
    "                             verbose = 1)]\n",
    "                             \n",
    "with tf.device('/device:GPU:0'):\n",
    "    history = denseNet.fit(X_train, y_train,\n",
    "                        batch_size = BATCH_SIZE,\n",
    "                        epochs = EPOCH,\n",
    "                        verbose = 1,\n",
    "                        callbacks = callbacks,\n",
    "                        validation_data = (X_val, y_val))"
   ]
  },
  {
   "cell_type": "code",
   "execution_count": null,
   "metadata": {},
   "outputs": [],
   "source": [
    "\n",
    "Y_pred = denseNet.predict(X_val)\n",
    "Y_true = np.argmax(y_val, axis=1)\n",
    "Y_pred = np.argmax(Y_pred, axis=1)\n",
    "\n",
    "\n",
    "plt.figure(figsize=(15,5), facecolor = 'white')\n",
    "plt.subplot(121)\n",
    "plt.title(\"Accuracy\")\n",
    "plt.plot(history.history['accuracy'])\n",
    "plt.plot(history.history['val_accuracy'])\n",
    "plt.xlabel('epoch')\n",
    "plt.ylabel('accurcay')\n",
    "plt.legend(['train', 'test'])\n",
    "\n",
    "plt.subplot(122)\n",
    "plt.title(\"Loss\")\n",
    "plt.plot(history.history['loss'])\n",
    "plt.plot(history.history['val_loss'])\n",
    "plt.xlabel('epoch')\n",
    "plt.ylabel('loss')\n",
    "plt.legend(['train', 'test'])\n",
    "plt.show()"
   ]
  },
  {
   "cell_type": "code",
   "execution_count": null,
   "metadata": {},
   "outputs": [],
   "source": [
    "score = denseNet.evaluate(X_val, y_val, verbose = 0)\n",
    "\n",
    "print('Test loss:', round(score[0], 3))\n",
    "print('Test accuracy:', round(score[1], 3))\n",
    "print(classification_report(Y_true, Y_pred))\n",
    "\n",
    "x_lab = ['N','Q','S','V','F']\n",
    "y_lab = ['N','Q','S','V','F']\n",
    "\n",
    "conf_matrix = confusion_matrix(Y_true, Y_pred)\n",
    "conf_matrix_f = conf_matrix.astype('float') / conf_matrix.sum(axis=1)[:, np.newaxis]\n",
    "plt.figure(figsize=(14,5), facecolor='white')\n",
    "plt.subplot(121)\n",
    "plt.title(\"Confusion Matrix: num\")\n",
    "aa = sns.heatmap(conf_matrix,\n",
    "                 xticklabels = x_lab,\n",
    "                 yticklabels = y_lab,\n",
    "                 annot=True,\n",
    "                 fmt=\".0f\",\n",
    "                 cmap=plt.cm.binary,\n",
    "                facecolor='white')"
   ]
  },
  {
   "cell_type": "code",
   "execution_count": null,
   "metadata": {},
   "outputs": [],
   "source": [
    "plt.yticks(rotation='horizontal')\n",
    "plt.ylabel('True')\n",
    "plt.xlabel('Predict')\n",
    "plt.subplot(122)\n",
    "plt.title(\"Confusion Matrix: ratio\")\n",
    "\n",
    "aa = sns.heatmap(conf_matrix_f,\n",
    "                 xticklabels = x_lab,\n",
    "                 yticklabels = y_lab,\n",
    "                 annot=True,\n",
    "                 fmt=\".3f\",\n",
    "                 cmap=plt.cm.binary,\n",
    "                facecolor='white')\n",
    "\n",
    "plt.yticks(rotation='horizontal')\n",
    "plt.ylabel('True')\n",
    "plt.xlabel('Predict')\n",
    "plt.tight_layout()"
   ]
  }
 ],
 "metadata": {
  "kernelspec": {
   "display_name": "Python 3.9.7 ('base')",
   "language": "python",
   "name": "python3"
  },
  "language_info": {
   "codemirror_mode": {
    "name": "ipython",
    "version": 3
   },
   "file_extension": ".py",
   "mimetype": "text/x-python",
   "name": "python",
   "nbconvert_exporter": "python",
   "pygments_lexer": "ipython3",
   "version": "3.9.7"
  },
  "orig_nbformat": 4,
  "vscode": {
   "interpreter": {
    "hash": "6c3cabcf2f29820bdd7faae982b59d335e0d215fb5382d93f3312fa3292e9b7f"
   }
  }
 },
 "nbformat": 4,
 "nbformat_minor": 2
}
